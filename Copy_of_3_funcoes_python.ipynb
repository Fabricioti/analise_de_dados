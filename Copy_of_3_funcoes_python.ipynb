{
  "nbformat": 4,
  "nbformat_minor": 0,
  "metadata": {
    "kernelspec": {
      "display_name": "Python 3",
      "language": "python",
      "name": "python3"
    },
    "language_info": {
      "codemirror_mode": {
        "name": "ipython",
        "version": 3
      },
      "file_extension": ".py",
      "mimetype": "text/x-python",
      "name": "python",
      "nbconvert_exporter": "python",
      "pygments_lexer": "ipython3",
      "version": "3.7.4"
    },
    "colab": {
      "name": "Copy of 3_funcoes_python.ipynb",
      "provenance": [],
      "collapsed_sections": [],
      "include_colab_link": true
    }
  },
  "cells": [
    {
      "cell_type": "markdown",
      "metadata": {
        "id": "view-in-github",
        "colab_type": "text"
      },
      "source": [
        "<a href=\"https://colab.research.google.com/github/Fabricioti/analise_de_dados/blob/master/Copy_of_3_funcoes_python.ipynb\" target=\"_parent\"><img src=\"https://colab.research.google.com/assets/colab-badge.svg\" alt=\"Open In Colab\"/></a>"
      ]
    },
    {
      "cell_type": "markdown",
      "metadata": {
        "id": "pdGzqlsyA-1N",
        "colab_type": "text"
      },
      "source": [
        "# Funções\n",
        "\n",
        "Métodos são blocos de códigos reutilizáveis que realizam tarefas específicas dentro de um programa. Em Python, definimos funções usando a palavra-chave *def*, seguida pelo nome da função, a lista formal de parâmetros entre parêntesis, e, finalizando a assinatura do método com dois pontos (:). É importante lembrar que todas as instruções após a assinatura do método e que formam o corpo da função, devem ser identadas para funcionamento correto do código.\n",
        "\n",
        "```python\n",
        "def soma(a, b):\n",
        "    \"\"\"Retorna a soma de dois números inteiros\"\"\"\n",
        "    return a + b;\n",
        "\n",
        "\n",
        "# Exemplo de uso da função\n",
        "resultado_soma = soma(12, 15) \n",
        "print(resultado_soma) # Saída: 27\n",
        "\n",
        "```\n",
        "\n",
        "Você deve ter notado o comentário logo após a assinatura do método; este tipo de comentário é o que chamamos de *docstring*, e serve para documentarmos as funções para posteriormente, gerarmos automaticamente com auxílio de ferramentas, uma documentação online ou impressa do seu programa. Por isso, comente sempre seu código e escreva-o de maneira mais clara possível para que outras pessoas consigam ler e compreender facilmente o que seu código faz.\n",
        "\n",
        "## Declaração de Argumentos\n",
        "\n",
        "Existem 3 formas diferentes, que podem ser combinadas entre si, para definirmos funções com número variável de argumentos, são elas:\n",
        "\n",
        "**1. Valores Padrão de Argumento**: declaramos um valor padrão para um ou mais argumentos no seguinte formato: *\"arg = value\"*; de tal forma que damos a opção de não especificar valores para tais argumentos e usarmos os valores padrão definidos.\n",
        "\n",
        "```python\n",
        "def exibir_mensagem(mensagem, cortar_apos = 4):\n",
        "    print(message[:cortar_apos]\n",
        "\n",
        "# Exemplo de uso da função\n",
        "exibir_mensagem(\"mensagem\")     # Saída: mens\n",
        "exibir_mensagem(\"mensagem\", 6)  # Saída: mensag\n",
        "```\n",
        "\n",
        "**2. Argumentos por Palavras-Chave**: semelhante a técnica anterior, argumentos por palavra-chave nós declaramos os argumentos no formato *\"arg = value\"*, lembrando que em uma chamada de função as variáveis passadas como parâmetro devem seguir a mesma ordem dos argumentos na assinatura do método.\n",
        "\n",
        "```python\n",
        "def desenha_retangulo(x, y, width = 800, height = 600):\n",
        "    # Instruções\n",
        "    \n",
        "# Exemplo de uso da função\n",
        "desenha_retangulo(0, 0)                               # Argumento por posição usando valores padrão do restante \n",
        "desenha_retangulo(0, 0, width = 1280)                 # Argumento com uma palavra-chave\n",
        "desenha_retangulo(0, 0, width = 1280, height = 1024)  # Argumento com duas palavras-chave\n",
        "desenha_retangulo()                                   # Erro: required argument missing\n",
        "desenha_retangulo(color = \"#CCCCCC\")                  # Erro: argumento por palavra-chave desconhecido\n",
        "desenha_retangulo(0, 0, x = 200, y = 300)             # Erro: valores duplicados par ao mesmo argumento\n",
        "\n",
        "```\n",
        "\n",
        "**3. Listas de Argumentos Arbitrários**: o Python permite você criar listas de argumentos com tamanho variável, de forma que toda vez que você chamar a função você possa especificar qualquer quantidade de argumentos que serão empacotados em uma variável do tipo tupla.\n",
        "\n",
        "```python\n",
        "# O último argumento é marcado com uma asterisco \n",
        "# para indicar que após os dois primeiros parâmetros\n",
        "# qualquer dado enviado para a função será empacotado em uma tupla.\n",
        "def nome_funcao(primeiro_arg, segundo_arg, *restante):\n",
        "    # Instruções\n",
        "    \n",
        "```\n",
        "\n",
        "## Passagem por Valor ou Por Referência?\n",
        "\n",
        "Em Python, objetos passados como argumentos para as funções são passados por *referência*, ou seja, não é feita uma cópia deles para o corpo da função. Desta forma, quando passamos uma lista enorme como argumento, não haverá a cópia  de todos os seus itens para um novo local em memória. Não se esqueça que até mesmo números inteiros são objetos para o Python. \n",
        "\n",
        "Ao passar objetos mutáveis (p. ex: listas e dicionários) como parâmetro, eles podem ser alterados pela função que os chamou e as alterações são visíveis para a função chamadora. Já os objetos imutáveis (p. ex: inteiros e strings), não podem ser alterados pela função chamada, logo, a função chamadora pode ter certeza de que a função chamada não irá alterar os valores das variáveis.\n"
      ]
    },
    {
      "cell_type": "markdown",
      "metadata": {
        "id": "z25qfrF0A-1P",
        "colab_type": "text"
      },
      "source": [
        "## Exercícios"
      ]
    },
    {
      "cell_type": "markdown",
      "metadata": {
        "id": "DA4ZoiHYA-1Q",
        "colab_type": "text"
      },
      "source": [
        "1. Faça um programa contendo o método `verifica(numero)` que retorne 1 se o número digitado for positivo ou 0 se for negativo."
      ]
    },
    {
      "cell_type": "code",
      "metadata": {
        "id": "jSkqw87lA-1R",
        "colab_type": "code",
        "outputId": "3e2751ca-af32-4c0f-ae77-2da52b676397",
        "colab": {
          "base_uri": "https://localhost:8080/",
          "height": 34
        }
      },
      "source": [
        "num = int(input('Digite um número: '))\n",
        "\n",
        "\n",
        "def verifica(num):\n",
        "    if num >= 0:\n",
        "        return('1')\n",
        "    else:\n",
        "        return('0')\n",
        "print(verifica(num))"
      ],
      "execution_count": 0,
      "outputs": [
        {
          "output_type": "stream",
          "text": [
            "Digite um número: 5\n"
          ],
          "name": "stdout"
        }
      ]
    },
    {
      "cell_type": "markdown",
      "metadata": {
        "id": "JG_tGCQLA-1X",
        "colab_type": "text"
      },
      "source": [
        "2. Faça um programa contendo o método `somar(inicio, fim)` que receba dois números inteiros positivos como parâmetro e retorne a soma dos N números inteiros existentes entre eles. Ou seja, os parâmetros são exclusives, ou seja, os valores de início e fim não aparecerão no resultado."
      ]
    },
    {
      "cell_type": "code",
      "metadata": {
        "id": "34xgepasA-1Z",
        "colab_type": "code",
        "colab": {}
      },
      "source": [
        "def somar(inicio, fim):\n",
        "    interval = (fim + 1) - (inicio - 1)\n",
        "    sum = 0\n",
        "    if fim >= inicio:\n",
        "        for i in range(1, interval):\n",
        "            sum += i\n",
        "        sum -= fim\n",
        "        sum -= inicio\n",
        "    else:\n",
        "        return 'O início não pode ser menor que o fim '\n",
        "\n",
        "    return sum\n",
        "\n",
        "\n",
        "print(somar(1, 10))"
      ],
      "execution_count": 0,
      "outputs": []
    },
    {
      "cell_type": "markdown",
      "metadata": {
        "id": "2Lm6qy6kA-1f",
        "colab_type": "text"
      },
      "source": [
        "3. Faça um programa contendo o método `divisores(a, b, c)` que receba três números inteiros a, b e c, sendo a maior que 1. A função deverá somar todos os inteiros entre b e c que sejam divisíveis por a (inclusive b e c) e retornar o resultado da soma para ser impresso."
      ]
    },
    {
      "cell_type": "code",
      "metadata": {
        "id": "1gCOSuhwA-1i",
        "colab_type": "code",
        "colab": {}
      },
      "source": [
        "def divisores(a, b, c):\n",
        "  if a > 1:\n",
        "    soma = b + c\n",
        "    intervalo = (c + 1)- (b - 1)\n",
        "    \n",
        "    for i in range(3, intervalo):\n",
        "      if (i % a == 0):\n",
        "        soma += i\n",
        "  else:\n",
        "    return 'O primeiro nº precisa ser maior que 1'\n",
        "\n",
        "  return soma\n",
        "\n",
        "\n",
        "print(divisores(4, 8, 12))"
      ],
      "execution_count": 0,
      "outputs": []
    },
    {
      "cell_type": "markdown",
      "metadata": {
        "id": "7UxFY_mPA-1l",
        "colab_type": "text"
      },
      "source": [
        "4. Faça um método `converte_horario(segundos)` que receba um único valor representando segundos e converta esse valor para horas, minutos e segundos; seguindo o formato 00:00:00."
      ]
    },
    {
      "cell_type": "code",
      "metadata": {
        "id": "4JWI_j47A-1l",
        "colab_type": "code",
        "colab": {}
      },
      "source": [
        "def converte_horario(segundos):\n",
        "  seconds = segundos % 60\n",
        "  minutos = segundos / 60\n",
        "  minuto = minutos % 60\n",
        "  horas = minutos / 60\n",
        "\n",
        "  return str(int(horas)) + str('hrs') + str (' : ') + str(int(minuto)) + str('min') + str(' : ')  + str(int(seconds)) + str('seg') \n",
        "\n",
        "\n",
        "print(converte_horario(28600))"
      ],
      "execution_count": 0,
      "outputs": []
    },
    {
      "cell_type": "markdown",
      "metadata": {
        "id": "L6lPlMVbA-1p",
        "colab_type": "text"
      },
      "source": [
        "5. Crie o método `calcula_reajuste(preco_antigo, preco_atual)` que receba os valores antigo e atual de um produto e determine o percentual de acréscimo entre esses valores."
      ]
    },
    {
      "cell_type": "code",
      "metadata": {
        "id": "-FAAdCVAA-1r",
        "colab_type": "code",
        "colab": {}
      },
      "source": [
        "def calcula_reajuste(preco_antigo, preco_atual):\n",
        "    aumento = (preco_atual / preco_antigo) * 10\n",
        "    return str(aumento) + '% de acréscimo'\n",
        "\n",
        "\n",
        "print(calcula_reajuste(20, 80))"
      ],
      "execution_count": 0,
      "outputs": []
    },
    {
      "cell_type": "markdown",
      "metadata": {
        "id": "uQHBsQcgA-1t",
        "colab_type": "text"
      },
      "source": [
        "6. Crie o método `imprime_multiplicacao(n)` que receba como parâmetro um número inteiro no intervalo de 1 a 9 (inclusive) e mostre a seguinte tabela de multiplicação (no exemplo, n = 9):\n",
        "\n",
        "\n",
        "1<br/> \n",
        "2  4 <br/>\n",
        "3 6 9  <br/>\n",
        "4 8 12 16  <br/>\n",
        "5 10 15 20 25  <br/>\n",
        "6 12 18 24 30 36  <br/>\n",
        "7 14 21 28 35 42 49  <br/>\n",
        "8 16 24 32 40 48 56 64  <br/>\n",
        "9 18 27 36 45 54 63 72 81  <br/>"
      ]
    },
    {
      "cell_type": "code",
      "metadata": {
        "id": "8MugGFPEA-1u",
        "colab_type": "code",
        "colab": {}
      },
      "source": [
        "def imprime_multiplicacao(n):\n",
        "    contagem = 1\n",
        "    for i in range(contagem, n + 1):\n",
        "        print(i)\n",
        "        for j in range(contagem, i + 1):\n",
        "            result = j * i\n",
        "            print(result, end=\" \")\n",
        "\n",
        "\n",
        "print(imprime_multiplicacao(9))"
      ],
      "execution_count": 0,
      "outputs": []
    },
    {
      "cell_type": "markdown",
      "metadata": {
        "id": "3Oaga67GA-1x",
        "colab_type": "text"
      },
      "source": [
        "7. crie o método `media_alunos(nota1, nota2, nota3, tipo)` que receba as três notas de um aluno como parâmetros e um número inteiro indicando o tipo de média. Se o número for 0, a função deverá calcular a média aritmética das notas do aluno; se for 1, deverá calcular a média ponderada, com pesos os respectivos pesos: 5, 3 e 2. A média calculada deverá ser retornada pela função."
      ]
    },
    {
      "cell_type": "code",
      "metadata": {
        "id": "ejVMpx7oA-1y",
        "colab_type": "code",
        "colab": {}
      },
      "source": [
        "def media_alunos(nota1, nota2, nota3, tipo):\n",
        "    if tipo == 1:\n",
        "        media = ((nota1 * 5) + (nota2 * 3) + (nota3 * 2)) / (5 + 3 + 2)\n",
        "    elif tipo == 0:\n",
        "        media = (nota1 + nota2 + nota3) / 3\n",
        "    else:\n",
        "        return 'Tipo não permitido'\n",
        "\n",
        "    return media\n",
        "\n",
        "\n",
        "print(media_alunos(10, 2, 3, 1))\n",
        "print(media_alunos(10, 2, 3, 0))"
      ],
      "execution_count": 0,
      "outputs": []
    },
    {
      "cell_type": "markdown",
      "metadata": {
        "id": "uvhxdMZ2A-12",
        "colab_type": "text"
      },
      "source": [
        "8. Faça o método `maior_menor(numeros)` que receba um vetor de números inteiros como parâmetro, em seguida, determine e imprima na tela o maior e o menor número."
      ]
    },
    {
      "cell_type": "code",
      "metadata": {
        "id": "oTE0qgLEA-13",
        "colab_type": "code",
        "outputId": "d0e6925d-fcaa-4c06-86d2-6e5974adcde1",
        "colab": {
          "base_uri": "https://localhost:8080/",
          "height": 51
        }
      },
      "source": [
        "def maior_menor(numeros):\n",
        "    menor = numeros[0]\n",
        "    maior = numeros[0]\n",
        "\n",
        "    for i in range(len(numeros)):\n",
        "        if numeros[i] < menor:\n",
        "            menor = numeros[i]\n",
        "\n",
        "    for i in range(len(numeros)):\n",
        "        if numeros[i] > maior:\n",
        "            maior = numeros[i]\n",
        "\n",
        "    return maior, menor\n",
        "\n",
        "\n",
        "array = [8, 30, 310, 25]\n",
        "print(maior_menor(array))"
      ],
      "execution_count": 0,
      "outputs": [
        {
          "output_type": "stream",
          "text": [
            "[4, 2, 6, 1, 3]\n",
            "[1, 2, 3, 4, 6]\n"
          ],
          "name": "stdout"
        }
      ]
    },
    {
      "cell_type": "markdown",
      "metadata": {
        "id": "Vl0BlIX3A-16",
        "colab_type": "text"
      },
      "source": [
        "9. Foi realizada uma pesquisa sobre algumas características físicas dos habitantes de uma região. Foram coletados os seguintes dados de cada habitante: sexo, cor dos olhos (A — azuis; ou C — castanhos), cor dos cabelos (L — louros; P — pretos; ou C — castanhos) e idade. Implemente os seguintes métodos:\n",
        "\n",
        "    1. `leia_dados()`: leia esses dados, armazene e retorne os dados em uma lista;\n",
        "    2. `media_idades(dados)`: calcula e retorne a média de idade das pessoas com olhos castanhos e cabelos pretos;\n",
        "    3. `maior_idade(dados)`: determina e retorne a maior idade entre os habitantes;\n",
        "    4. `frequencia_individuos(dados)`: calcula e retorna a quantidade de indivíduos do sexo feminino com idade entre 18 e 35 anos (inclusive) e que tenham olhos azuis e cabelos louros."
      ]
    },
    {
      "cell_type": "code",
      "metadata": {
        "id": "OMEUeBofA-17",
        "colab_type": "code",
        "colab": {}
      },
      "source": [
        "def leia_dados():\n",
        "    # Retorna uma lista com os dados dos habitantes\n",
        "    dados_habitantes = []\n",
        "\n",
        "    opcao = input(\"Deseja Ler Dados? [S] SIM - [N] NÃO \")[0].lower()\n",
        "\n",
        "    while (opcao == \"s\"):\n",
        "        sexo = input(\"\\nSexo: \")[0].upper()\n",
        "\n",
        "        print(\"\\nA - Azuis ou C - Castanhos\")\n",
        "        cor_olhos = input(\"Cor dos Olhos: \")[0].upper()\n",
        "\n",
        "        print(\"\\nL - Louro; P - Preto; C - Castanhos\")\n",
        "        cor_cabelos = input(\"Cor dos Cabelos\")[0].upper()\n",
        "\n",
        "        idade = int(input(\"\\nIdade: \"))\n",
        "\n",
        "        habitante = {\n",
        "            'sexo': sexo,\n",
        "            'olhos': cor_olhos,\n",
        "            'cabelos': cor_cabelos,\n",
        "            'idade': idade\n",
        "        }\n",
        "\n",
        "        dados_habitantes.append(habitante)\n",
        "\n",
        "        opcao = input(\"Deseja Ler Dados? [S] SIM - [N] NÃO \")[0].lower()\n",
        "\n",
        "    return dados_habitantes\n",
        "\n",
        "\n",
        "def media_idades(dados):\n",
        "    # Retorna a média de idade das pessoas com olhos castanhos e cabelos pretos\n",
        "    media = 0.0\n",
        "    soma = 0\n",
        "    contador = 0\n",
        "\n",
        "    for habitante in dados:\n",
        "        if (habitante['olhos'] == 'C') and (habitante['cabelos'] == 'P'):\n",
        "            soma = habitante['idade'] + soma\n",
        "            contador = contador + 1\n",
        "\n",
        "    if contador != 0:\n",
        "        media = soma / contador\n",
        "\n",
        "    return media\n",
        "\n",
        "\n",
        "def maior_idade(dados):\n",
        "    # Retorna a maior idade entre os habitantes\n",
        "    maior_idade = 0\n",
        "\n",
        "    for habitante in dados:\n",
        "        if habitante['idade'] > maior_idade:\n",
        "            maior_idade = habitante['idade']\n",
        "\n",
        "    return maior_idade\n",
        "\n",
        "\n",
        "def frequencia_individuos(dados):\n",
        "    # Retornar a quantidade de individuos do sexo feminino, com idade entre 18 e 35 anos (inclusive) e que tenham olhos azuis e cabelos loiros\n",
        "    frequencia = 0\n",
        "\n",
        "    for habitante in dados:\n",
        "        if (habitante['sexo'] == 'F') and (habitante['idade'] >= 18 and habitante['idade'] <= 35) and (\n",
        "                habitante['olhos'] == 'A') and (habitante['cabelos'] == 'L'):\n",
        "            frequencia = frequencia + 1\n",
        "\n",
        "    return frequencia\n",
        "\n",
        "\n",
        "dados = leia_dados()\n",
        "media_idades(dados)\n",
        "maior_idade(dados)\n",
        "frequencia_individuos(dados)"
      ],
      "execution_count": 0,
      "outputs": []
    },
    {
      "cell_type": "markdown",
      "metadata": {
        "id": "ReSn83h0A-19",
        "colab_type": "text"
      },
      "source": [
        "10. Implemente o método `fatorial(n)` que receba como parâmetro um número inteiro e retorne o fatorial deste número."
      ]
    },
    {
      "cell_type": "code",
      "metadata": {
        "id": "s-MS3KMCA-1-",
        "colab_type": "code",
        "colab": {}
      },
      "source": [
        "def fatorial(n):\n",
        "  resultado = 1\n",
        "  for i in range(1, n + 1):\n",
        "    resultado *= i\n",
        "\n",
        "  return(resultado)\n",
        "\n",
        "print(fatorial(5))"
      ],
      "execution_count": 0,
      "outputs": []
    },
    {
      "cell_type": "markdown",
      "metadata": {
        "id": "MimXe7_LA-2A",
        "colab_type": "text"
      },
      "source": [
        "11. Faça o método `calcula_fatorial(numeros)` que receba uma lista de números inteiros como parâmetro. Ao final dessa função, deverá ter sido gerado um vetor `resultados_fatorial` contendo o fatorial de cada elemento da lista de números passada como parâmetro."
      ]
    },
    {
      "cell_type": "code",
      "metadata": {
        "id": "6SwtF2NlA-2B",
        "colab_type": "code",
        "colab": {}
      },
      "source": [
        "def calcula_fatorial(lista):\n",
        "    resultados_fatorial = []\n",
        "    resultado = 1\n",
        "    for i in range(len(lista)):\n",
        "        item = lista[i]\n",
        "        for ii in range(item, 1, -1):\n",
        "            resultado *= ii\n",
        "        resultados_fatorial.append(resultado)\n",
        "        resultado = 1\n",
        "\n",
        "    return resultados_fatorial\n",
        "\n",
        "\n",
        "_lista = [2, 4, 6, 8]\n",
        "print(calcula_fatorial(_lista))"
      ],
      "execution_count": 0,
      "outputs": []
    },
    {
      "cell_type": "markdown",
      "metadata": {
        "id": "rNROvYaLA-2D",
        "colab_type": "text"
      },
      "source": [
        "12. Crie o método `identifica_numeros_pares(numeros)` que recebe um vetor de números inteiros como parâmetro, calcule e mostre na tela os números pares e suas respectivas posições."
      ]
    },
    {
      "cell_type": "code",
      "metadata": {
        "id": "Z5MEk9vfA-2E",
        "colab_type": "code",
        "colab": {}
      },
      "source": [
        "def identifica_numeros_pares(numeros):\n",
        "    for i in range(len(numeros)):\n",
        "        if numeros[i] % 1 == 0:\n",
        "            print(\"Número: \" + str(numeros[i]) + \" Posição: \" + str(numeros.index(numeros[i])))\n",
        "\n",
        "\n",
        "vetor = [7, 8, 2, 9, 12, 3, 220, 330]\n",
        "print(identifica_numeros_pares(vetor))"
      ],
      "execution_count": 0,
      "outputs": []
    },
    {
      "cell_type": "markdown",
      "metadata": {
        "id": "8TxKTN5uA-2H",
        "colab_type": "text"
      },
      "source": [
        "13. Crie o método `intercala(a, b)` que receba dois vetores númericos como parâmetro e retorne o vetor resultante da intercalação deles, por exemplo:\n",
        "\n",
        "    * Vetor A = [3, 5, 4, 2, 2, 5, 3, 2, 5, 9]\n",
        "    * Vetor B = [7, 15, 20, 0, 18, 4, 55, 23, 8, 6]\n",
        "    * Vetor Intercalado = [3, 7, 5, 15, 4, 20, 2, 0, 2, 18, 5, 4, 3, 55, 2, 23, 5, 8, 9, 6]\n"
      ]
    },
    {
      "cell_type": "code",
      "metadata": {
        "id": "ZubvwdU6A-2H",
        "colab_type": "code",
        "colab": {}
      },
      "source": [
        "def intercala(a, b):\n",
        "    intercalado = []\n",
        "    for i in range(len(b)):\n",
        "        intercalado.append(a[i])\n",
        "        intercalado.append(b[i])\n",
        "    return intercalado\n",
        "\n",
        "\n",
        "vetorA = [3, 5, 4, 2, 2, 5, 3, 2, 5, 9]\n",
        "vetorB = [7, 15, 20, 0, 18, 4, 55, 23, 8, 6]\n",
        "\n",
        "print(vetorA)\n",
        "print(vetorB)\n",
        "print(intercala(vetorA, vetorB))\n"
      ],
      "execution_count": 0,
      "outputs": []
    },
    {
      "cell_type": "markdown",
      "metadata": {
        "id": "33GNNdeiA-2K",
        "colab_type": "text"
      },
      "source": [
        "14. Implemente o método `uniao(a, b)` que receba dois vetores numéricos como parâmetro, calcule e retorne um vetor numérico com a união entre a e b (A ∪ B), ou seja, que possua todos os elementos dos vetores A e B, sem repetições."
      ]
    },
    {
      "cell_type": "code",
      "metadata": {
        "id": "nAgNIL0WA-2K",
        "colab_type": "code",
        "colab": {}
      },
      "source": [
        "def uniao(a, b):\n",
        "    itens = a + b\n",
        "    uniao = []\n",
        "    itens.sort()\n",
        "    for i in range(len(itens)):\n",
        "        if (itens[i] != itens[i - 1]):\n",
        "            uniao.append(itens[i])\n",
        "\n",
        "    return uniao\n",
        "\n",
        "\n",
        "vetorA = [10, 8, 80, 25, 200]\n",
        "vetorB = [2, 10, 12, 35]\n",
        "\n",
        "print(vetorA)\n",
        "print(vetorB)\n",
        "print(uniao(vetorA, vetorB))"
      ],
      "execution_count": 0,
      "outputs": []
    },
    {
      "cell_type": "markdown",
      "metadata": {
        "id": "9jEUZaX8A-2N",
        "colab_type": "text"
      },
      "source": [
        "15. Implemente o método `diferenca(a, b)` que receba dois vetores numéricos como parâmetro, calcule e retorne um vetor numérico com a diferença entre a e b (A - B), ou seja, todos os elementos do vetores A que não existam no vetor B, sem repetições."
      ]
    },
    {
      "cell_type": "code",
      "metadata": {
        "id": "7JXJff5eA-2N",
        "colab_type": "code",
        "colab": {}
      },
      "source": [
        "def diferenca(a, b):\n",
        "    itens = a + b\n",
        "    itens.sort()\n",
        "    diferenca = []\n",
        "\n",
        "    for i in range(len(itens)):\n",
        "        if itens[i] == itens[i - 1]:\n",
        "            diferenca.remove(itens[i])\n",
        "        else:\n",
        "            diferenca.append(itens[i])\n",
        "\n",
        "    return diferenca\n",
        "\n",
        "\n",
        "vetorA = [85, 22, 85, 55, 110]\n",
        "vetorB = [22, 10, 14, 55]\n",
        "\n",
        "print(vetorA)\n",
        "print(vetorB)\n",
        "print('-'*22)\n",
        "print(diferenca(vetorA, vetorB))"
      ],
      "execution_count": 0,
      "outputs": []
    },
    {
      "cell_type": "markdown",
      "metadata": {
        "id": "zLDikWOOA-2P",
        "colab_type": "text"
      },
      "source": [
        "16. Implemente o método `intersecao(a, b)` que receba dois vetores numéricos como parâmetro, calcule e retorne um vetor numérico com a intersecção entre a e b (A ∩ B), ou seja, contenha apenas os elementos que aparecem nos dois vetores, sem repetições."
      ]
    },
    {
      "cell_type": "code",
      "metadata": {
        "id": "_JJh6U1zA-2Q",
        "colab_type": "code",
        "colab": {}
      },
      "source": [
        "def intersecao(a, b):\n",
        "    itens = a + b\n",
        "    itens.sort()\n",
        "    intersecao = []\n",
        "\n",
        "    for i in range(len(itens)):\n",
        "        if itens[i] == itens[i - 1]:\n",
        "            intersecao.append(itens[i])\n",
        "\n",
        "    return intersecao\n",
        "\n",
        "\n",
        "vetorA = [30, 12, 80, 45, 400]\n",
        "vetorB = [12, 10, 4, 45, 80]\n",
        "\n",
        "print(vetorA)\n",
        "print(vetorB)\n",
        "print('-'*22)\n",
        "print(intersecao(vetorA, vetorB))"
      ],
      "execution_count": 0,
      "outputs": []
    },
    {
      "cell_type": "markdown",
      "metadata": {
        "id": "eYk3G9v6A-2T",
        "colab_type": "text"
      },
      "source": [
        "17. Implemente o método `par(n)` que receba como parâmetro um número e retorne verdadeiro (true) se ele for par ou falso (false) se ele for ímpar."
      ]
    },
    {
      "cell_type": "code",
      "metadata": {
        "id": "NPevx_nWA-2U",
        "colab_type": "code",
        "colab": {}
      },
      "source": [
        "def par(n):\n",
        "    n = int(input('Digite um número: '))\n",
        "    if n % 2 == 0:\n",
        "        print('nº digitado é par')\n",
        "        return True\n",
        "    else:\n",
        "        print('nº digitado é impar')\n",
        "        return False\n",
        "\n",
        "\n",
        "print(par(0))"
      ],
      "execution_count": 0,
      "outputs": []
    },
    {
      "cell_type": "markdown",
      "metadata": {
        "id": "yVrpccsiA-2W",
        "colab_type": "text"
      },
      "source": [
        "18. Implemente o método `max(numeros)` que receba como parâmetro uma lista de números e retorne o *maior número* encontrado na lista."
      ]
    },
    {
      "cell_type": "code",
      "metadata": {
        "id": "MkH9u2AHA-2X",
        "colab_type": "code",
        "colab": {}
      },
      "source": [
        "def max(numeros):\n",
        "    maior = 0\n",
        "    for i in range(len(numeros)):\n",
        "        if numeros[i] > maior:\n",
        "            maior = numeros[i]\n",
        "\n",
        "    return maior\n",
        "\n",
        "\n",
        "vetor = [5, 18, 6, 24, 1, 13]\n",
        "print(max(vetor))"
      ],
      "execution_count": 0,
      "outputs": []
    },
    {
      "cell_type": "markdown",
      "metadata": {
        "id": "3oMq9KrPA-2Z",
        "colab_type": "text"
      },
      "source": [
        "19. Implemente o método `min(numeros)` que receba como parâmetro uma lista de números e retorne o *menor número* encontrado na lista."
      ]
    },
    {
      "cell_type": "code",
      "metadata": {
        "id": "mCzngBoWA-2a",
        "colab_type": "code",
        "colab": {}
      },
      "source": [
        "def min(numeros):\n",
        "    menor = numeros[0]\n",
        "    for i in range(len(numeros)):\n",
        "        if numeros[i] < menor:\n",
        "            menor = numeros[i]\n",
        "\n",
        "    return menor\n",
        "\n",
        "\n",
        "vetor = [5, 18, 6, 24, 1, 13]\n",
        "print(min(vetor))"
      ],
      "execution_count": 0,
      "outputs": []
    },
    {
      "cell_type": "markdown",
      "metadata": {
        "id": "N4pSzSHCA-2d",
        "colab_type": "text"
      },
      "source": [
        "20. Escreva o método `multiplo(a, b)` que receba dois números inteiros como parâmetro e retorne verdadeiro (true) se o primeiro for um múltiplo do segundo. Por exemplo: \n",
        "\n",
        "    * Se o usuário digitar 15 e 3, o primeiro número será múltiplo do segundo;\n",
        "    * Se o usuário digitar 2 e 4, o primeiro número não será múltiplo do segundo. \n",
        "\n",
        "> **Dica:** use o operador módulo para obter o resto da divisão.\n"
      ]
    },
    {
      "cell_type": "code",
      "metadata": {
        "id": "fEtUGqPpA-2d",
        "colab_type": "code",
        "colab": {}
      },
      "source": [
        "def multiplo(a, b):\n",
        "    a = int(input('Digite o valor: '))\n",
        "    b = int(input('Digite outro valor: '))\n",
        "    if a % b == 0:\n",
        "        return True\n",
        "    else:\n",
        "        return False\n",
        "\n",
        "\n",
        "print(multiplo(0, 0))\n",
        "print(multiplo(0, 0))"
      ],
      "execution_count": 0,
      "outputs": []
    },
    {
      "cell_type": "markdown",
      "metadata": {
        "id": "-E3lCSdKA-2i",
        "colab_type": "text"
      },
      "source": [
        "21. Implemente o método `imprime_vetor(vetor, codigo)` que receba como parâmetro um vetor de itens que será impresso e um código indicando a ordem da impressão. Se o código for igual a 0, o vetor deverá ser impresso de maneira crescente, caso contrário, se o código for igual a 1 o vetor deverá ser impresso de maneira decrescente. "
      ]
    },
    {
      "cell_type": "code",
      "metadata": {
        "id": "Q_RuYcy7A-2j",
        "colab_type": "code",
        "colab": {}
      },
      "source": [
        "def imprime_vetor(vetor, codigo):\n",
        "    vetor.sort()\n",
        "    vetorFim = []\n",
        "    if codigo == 0:\n",
        "        vetorFim = vetor\n",
        "    else:\n",
        "        for i in vetor[::-1]:\n",
        "            vetorFim.append(i)\n",
        "\n",
        "    return vetorFim\n",
        "\n",
        "\n",
        "vetorA = [6, 3, 18, 15, 95]\n",
        "vetorB = [6, 3, 18, 15, 95]\n",
        "print(imprime_vetor(vetorA, 0))\n",
        "print(imprime_vetor(vetorB, 1))"
      ],
      "execution_count": 0,
      "outputs": []
    },
    {
      "cell_type": "markdown",
      "metadata": {
        "id": "8t7VRhK5A-2l",
        "colab_type": "text"
      },
      "source": [
        "22. Implemente o método `primo(n)` que receba um número como parâmetro e retorna verdadeiro (true) se ele for primo, caso contrário, falso (false). \n",
        "\n",
        "> Um número é primo quando é divisível apenas por 1 e por ele mesmo"
      ]
    },
    {
      "cell_type": "code",
      "metadata": {
        "id": "NGAvHu69A-2m",
        "colab_type": "code",
        "colab": {}
      },
      "source": [
        "def primo(n):\n",
        "n = int(input('Digite um nº '))\n",
        "total = 0\n",
        "for c in range(1, n + 1):\n",
        "    if n % c == 0:\n",
        "        total += 1\n",
        "        return True\n",
        "    elif n % c == 1:\n",
        "        return False\n",
        "\n",
        "print(primo(0, total))"
      ],
      "execution_count": 0,
      "outputs": []
    },
    {
      "cell_type": "markdown",
      "metadata": {
        "id": "6T69Ce6iA-2o",
        "colab_type": "text"
      },
      "source": [
        "23. Crie o método `media(numeros)` que receba uma lista de números como parâmetro e retorno a média artimética."
      ]
    },
    {
      "cell_type": "code",
      "metadata": {
        "id": "oJlIsbowA-2q",
        "colab_type": "code",
        "colab": {}
      },
      "source": [
        "def media(numeros):\n",
        "    media = 0\n",
        "    for i in numeros:\n",
        "        media += i\n",
        "\n",
        "    return media / len(numeros)\n",
        "\n",
        "\n",
        "print(media([4, 13, 20, 40, 5]))"
      ],
      "execution_count": 0,
      "outputs": []
    },
    {
      "cell_type": "markdown",
      "metadata": {
        "id": "4SYkk8UaA-2v",
        "colab_type": "text"
      },
      "source": [
        "24. Faça o método `analisa_numeros(numeros)` que receba uma lista de números como parâmetro, calcule e mostre:\n",
        "\n",
        "    1. A Soma dos números;\n",
        "    2. A quantidade de números;\n",
        "    3. A média dos números;\n",
        "    4. O maior número;\n",
        "    5. O menor número;\n",
        "    6. A média dos números pares;\n",
        "    7. A porcentagem dos números ímpares entre todos os números da lista.\n",
        "\n",
        "> Você pode utilizar métodos criados nos exercícios anteriores."
      ]
    },
    {
      "cell_type": "code",
      "metadata": {
        "id": "lxTIC71gA-2v",
        "colab_type": "code",
        "colab": {}
      },
      "source": [
        "def analisa_numeros(numeros):\n",
        "    soma = 0\n",
        "    media = 0\n",
        "    qtdNumeros = 0\n",
        "    menor = numeros[0]\n",
        "    maior = 0\n",
        "\n",
        "    for i in numeros:\n",
        "        soma += i\n",
        "\n",
        "    for i in numeros:\n",
        "        media += i\n",
        "\n",
        "    for i in range(len(numeros)):\n",
        "        qtdNumeros += i\n",
        "        return qtdNumeros\n",
        "\n",
        "    for i in range(len(numeros)):\n",
        "        if (numeros[i] < menor):\n",
        "            menor = numeros[i]\n",
        "        return menor\n",
        "\n",
        "    for i in range(len(numeros)):\n",
        "        if (numeros[i] > maior):\n",
        "            maior = numeros[i]\n",
        "\n",
        "    soma_num = soma\n",
        "    media_num = media / len(numeros)\n",
        "    qtd_numeros = qtdNumeros\n",
        "    menor_num = menor\n",
        "    maior_num = maior\n",
        "\n",
        "    return {\n",
        "        'A Soma dos números: ': soma_num,\n",
        "        'A media é : ': media_num,\n",
        "        'A quantidade de números é : ': qtd_numeros,\n",
        "        'O menor número encontrado é  : ': menor_num,\n",
        "        'O maior número encontrado é  : ': maior_num,\n",
        "\n",
        "    }\n",
        "\n",
        "\n",
        "print(analisa_numeros([5, 12, 26, 22, 11, 85]))"
      ],
      "execution_count": 0,
      "outputs": []
    },
    {
      "cell_type": "markdown",
      "metadata": {
        "id": "_gfogre6A-2y",
        "colab_type": "text"
      },
      "source": [
        "25. Uma empresa quer transmitir dados pelo telefone, mas está preocupada com a interceptação telefônica. Todos os seus dados são transmitidos  como inteiros de quatro dígitos. Ela pediu para que você escreva um programa que criptografe seus dados, para que eles possam ser transmitidos com mais segurança. Implemente a função `criptogra(numero)` que receba como parâmetro um número inteiro de quatro dígitos e criptografe-o da seguinte forma: \n",
        "\n",
        "    * Substitua cada um dos dígitos do número usando a seguinte fórmula: `(digito +  7) módulo 10`; \n",
        "    * Após a substituição, troque o primeiro dígito pelo terceiro e troque o segundo dígito pelo quarto;\n",
        "    * Retorne o número inteiro criptografado.\n"
      ]
    },
    {
      "cell_type": "code",
      "metadata": {
        "id": "gF5eQyEDA-20",
        "colab_type": "code",
        "colab": {}
      },
      "source": [
        "def criptogra(numero):\n",
        "  numero = str(numero)\n",
        "  criptgrafia_1 = []\n",
        "  for i in numero:\n",
        "    i = (int(i) + 7) % 10\n",
        "    criptgrafia_1.append(int(i))\n",
        "\n",
        "  criptgrafia_1[0], criptgrafia_1[1] = criptgrafia_1[2], criptgrafia_1[3]\n",
        "\n",
        "  return criptgrafia_1\n",
        "\n",
        "print(criptogra(47983))"
      ],
      "execution_count": 0,
      "outputs": []
    }
  ]
}