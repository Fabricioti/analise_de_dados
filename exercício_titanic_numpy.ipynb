{
  "nbformat": 4,
  "nbformat_minor": 0,
  "metadata": {
    "kernelspec": {
      "display_name": "Python 3",
      "language": "python",
      "name": "python3"
    },
    "language_info": {
      "codemirror_mode": {
        "name": "ipython",
        "version": 3
      },
      "file_extension": ".py",
      "mimetype": "text/x-python",
      "name": "python",
      "nbconvert_exporter": "python",
      "pygments_lexer": "ipython3",
      "version": "3.7.4"
    },
    "colab": {
      "name": "exercício_titanic_numpy.ipynb",
      "provenance": [],
      "collapsed_sections": [],
      "include_colab_link": true
    }
  },
  "cells": [
    {
      "cell_type": "markdown",
      "metadata": {
        "id": "view-in-github",
        "colab_type": "text"
      },
      "source": [
        "<a href=\"https://colab.research.google.com/github/Fabricioti/analise_de_dados/blob/master/exerc%C3%ADcio_titanic_numpy.ipynb\" target=\"_parent\"><img src=\"https://colab.research.google.com/assets/colab-badge.svg\" alt=\"Open In Colab\"/></a>"
      ]
    },
    {
      "cell_type": "markdown",
      "metadata": {
        "id": "bezbDcSPw_gt",
        "colab_type": "text"
      },
      "source": [
        "![titanic](img/titanic_historical.jpg \"Pintura do Titanic\")\n",
        "\n",
        "# EXERCÍCIOS: Análise de Dados do Titanic"
      ]
    },
    {
      "cell_type": "markdown",
      "metadata": {
        "id": "O56LvzOkw_gu",
        "colab_type": "text"
      },
      "source": [
        "O RMS Titanic foi um navio de passageiros britânico operado pela empresa *White Star Line* que afundou no Oceano Atlântico Norte nas primeiras horas da manhã de 15 de abril de 1912, depois de atingir um iceberg durante sua viagem inaugural de Southampton a Nova York. Dos 2.224 passageiros e tripulantes a bordo, mais de 1.500 morreram, tornando o naufrágio um dos desastres marítimos comerciais mais mortais da história moderna em tempos de paz.\n",
        "\n",
        "Neste estudo iremos explorar um conjunto de dados baseado na lista de passageiros do Titanic editada por Michael A. Findlay, publicada originalmente em Eaton & Haas (1994) Titanic: Triumph and Tragedy, Patrick Stephens Ltd, e expandida com a ajuda da comunidade da Internet. Os arquivos HTML originais foram obtidos por Philip Hind (1999) e o *dataset* descreve o status de sobrevivência de passageiros individuais no Titanic. Ele não contém informações para a tripulação, mas contém idades atuais e estimadas para quase 80% dos passageiros."
      ]
    },
    {
      "cell_type": "markdown",
      "metadata": {
        "id": "cuPZYDQxw_gv",
        "colab_type": "text"
      },
      "source": [
        "## Dicionário de Dados\n",
        "\n",
        "Nesta seção será apresentado todo o processo de preparação, organização e limpeza de dados feito no *dataset* que possui os seguintes dados:\n",
        "\n",
        "| Nº | Coluna          | Descrição                                                                 |\n",
        "|:--:|:----------------|:--------------------------------------------------------------------------|\n",
        "|  1 | id_passageiro   | Identficador único do passageiro.                                         |\n",
        "|  2 | classe          | Classe social.                                                            |\n",
        "|  3 | sobreviveu      | Sobrevivente? Sim (1), Não (0).                                           |\n",
        "|  4 | nome            | Nome do passageiro.                                                       |\n",
        "|  5 | sexo            | Masculino (male), Feminino (female).                                      |\n",
        "|  6 | idade           | Idade do passageiro.                                                      |\n",
        "|  7 | irmaos_conjuges | Número de irmãos e cônjuges a bordo.                                      |\n",
        "|  8 | pais_filhos     | Número de pais e filhos a bordo.                                          |\n",
        "|  9 | bilhete         | Número do bilhete                                                         |\n",
        "| 10 | tarifa          | Preço da tarifa do passageiro.                                            |\n",
        "| 11 | cabine          | Cabine.                                                                   |\n",
        "| 12 | embarque        | Nome do porto de embarque: C = Cherbourg; Q = Queenstown; S = Southampton |\n",
        "| 13 | bote            | Bote salva vidas.                                                         |\n",
        "| 14 | corpo           | Número de identificação do corpo.                                         |\n",
        "| 15 | destino         | Local de desembarque do passageiro.                                       |\n",
        "\n",
        "### OBSERVAÇÕES\n",
        "\n",
        "- `classe` é uma aproximação do status socioeconômico na época, onde: 1 = Classe Alta1; 2 = Classe Média e 3 = Classe Baixa;\n",
        "- `idade` está representada em anos, porém, se a idade for menor que Um (1) ou caso tenha sido estimada, ela estará com casas decimais xx.5;\n",
        "- `tarifa` está em Libras esterlinas (British Pounds - £) anteriores a 1970;\n",
        "- `irmaos_conjuges` e `pais_filhos`: as variáveis de relação familiar de algumas relações foram ignoradas; a seguir estão as definições usadas:\n",
        "    - **Irmão**: Irmão, irmã, meio-irmão ou meia-irmã do passageiro a bordo do Titanic;\n",
        "    - **Cônjuge**: Marido ou esposa do passageiro a bordo do Titanic (amantes e noivos ignorados);\n",
        "    - **Pai**: Mãe ou pai do passageiro a bordo do Titanic;\n",
        "    - **Criança**: Filho, Filha, Enteado ou Enteada do Passageiro a bordo do Titanic;\n",
        "    - Outros parentes excluídos deste estudo incluem primos, sobrinhos / sobrinhas, tias / tios e parentes;\n",
        "    - Algumas crianças viajavam apenas com uma babá, portanto foi atribuído 0 para elas em pais_filhos; \n",
        "    - Alguns viajaram com amigos ou vizinhos muito próximos em uma vila, no entanto, as definições não apóiam essas relações.\n"
      ]
    },
    {
      "cell_type": "markdown",
      "metadata": {
        "id": "sI6R0atRw_gv",
        "colab_type": "text"
      },
      "source": [
        "## Exercícios\n",
        "Faça as questões abaixo usando somente a biblioteca [Numpy](https://numpy.org/)."
      ]
    },
    {
      "cell_type": "markdown",
      "metadata": {
        "id": "aP8t6CEzw_gw",
        "colab_type": "text"
      },
      "source": [
        "1. Importe o pacote numpy com o nome np."
      ]
    },
    {
      "cell_type": "code",
      "metadata": {
        "id": "NxdB8-rGw_gw",
        "colab_type": "code",
        "colab": {}
      },
      "source": [
        "import numpy as np"
      ],
      "execution_count": 2,
      "outputs": []
    },
    {
      "cell_type": "markdown",
      "metadata": {
        "id": "eTxlzFW4w_gz",
        "colab_type": "text"
      },
      "source": [
        "2. Carregue o conjunto de dados disponível na pasta [data/titanic3.csv](data/titanic3.csv), ignorando as colunas: `cabine`, `bote`, `corpo` e `destino`. **Importante:** o arquivo `.csv` usa tabulação (`\\t`) como delimitador de campos."
      ]
    },
    {
      "cell_type": "code",
      "metadata": {
        "id": "dV8PVhnAw_gz",
        "colab_type": "code",
        "colab": {
          "base_uri": "https://localhost:8080/",
          "height": 238
        },
        "outputId": "6b77f19d-7f51-489c-d812-a0c65d0a32f4"
      },
      "source": [
        "dados_titanic3 = np.genfromtxt('titanic3.csv',skip_header=True, delimiter = '\\t',encoding='UTF-8', dtype=float, usecols= (0,1,2,3,4,5,6,7,8,9,11))\n",
        "print (dados_titanic3)"
      ],
      "execution_count": 9,
      "outputs": [
        {
          "output_type": "stream",
          "text": [
            "[[1.000000e+00 1.000000e+00 1.000000e+00 ... 2.416000e+04 2.113375e+02\n",
            "           nan]\n",
            " [2.000000e+00 1.000000e+00 1.000000e+00 ... 1.137810e+05 1.515500e+02\n",
            "           nan]\n",
            " [3.000000e+00 1.000000e+00 0.000000e+00 ... 1.137810e+05 1.515500e+02\n",
            "           nan]\n",
            " ...\n",
            " [1.307000e+03 3.000000e+00 0.000000e+00 ... 2.656000e+03 7.225000e+03\n",
            "           nan]\n",
            " [1.308000e+03 3.000000e+00 0.000000e+00 ... 2.670000e+03 7.225000e+03\n",
            "           nan]\n",
            " [1.309000e+03 3.000000e+00 0.000000e+00 ... 3.150820e+05 7.875000e+03\n",
            "           nan]]\n"
          ],
          "name": "stdout"
        }
      ]
    },
    {
      "cell_type": "markdown",
      "metadata": {
        "id": "BrXQ8Inrw_g1",
        "colab_type": "text"
      },
      "source": [
        "3. Quantas linhas foram lidas do arquivo?"
      ]
    },
    {
      "cell_type": "code",
      "metadata": {
        "id": "BHHCVGfDw_g2",
        "colab_type": "code",
        "colab": {
          "base_uri": "https://localhost:8080/",
          "height": 34
        },
        "outputId": "7bb8cac9-af9c-4454-d251-4b40c912ca97"
      },
      "source": [
        "print(len(dados_titanic3))"
      ],
      "execution_count": 10,
      "outputs": [
        {
          "output_type": "stream",
          "text": [
            "1309\n"
          ],
          "name": "stdout"
        }
      ]
    },
    {
      "cell_type": "markdown",
      "metadata": {
        "id": "5ZjJpD4ww_g4",
        "colab_type": "text"
      },
      "source": [
        "4. Quantas dimensões sua variável dados possui?"
      ]
    },
    {
      "cell_type": "code",
      "metadata": {
        "id": "iB5W41Q1w_g4",
        "colab_type": "code",
        "colab": {
          "base_uri": "https://localhost:8080/",
          "height": 34
        },
        "outputId": "3f29517d-3326-425d-ac6c-f6fb4c37b053"
      },
      "source": [
        "print(dados_titanic3.ndim)"
      ],
      "execution_count": 74,
      "outputs": [
        {
          "output_type": "stream",
          "text": [
            "2\n"
          ],
          "name": "stdout"
        }
      ]
    },
    {
      "cell_type": "markdown",
      "metadata": {
        "id": "oTEf1LmCw_g7",
        "colab_type": "text"
      },
      "source": [
        "5. Obtenha os índices das posições onde existam dados ausentes."
      ]
    },
    {
      "cell_type": "code",
      "metadata": {
        "id": "n61yfgFdw_g7",
        "colab_type": "code",
        "colab": {
          "base_uri": "https://localhost:8080/",
          "height": 34
        },
        "outputId": "3d12d2e0-513f-419f-d472-e5122d024ed3"
      },
      "source": [
        "import warnings\n",
        "import numpy as np\n",
        "\n",
        "a = dados_titanic3\n",
        "i = np.where(a == '')\n",
        "\n",
        "print(i)"
      ],
      "execution_count": 68,
      "outputs": [
        {
          "output_type": "stream",
          "text": [
            "(array([], dtype=int64),)\n"
          ],
          "name": "stdout"
        }
      ]
    },
    {
      "cell_type": "markdown",
      "metadata": {
        "id": "N6COg2Fbw_g-",
        "colab_type": "text"
      },
      "source": [
        "6. Remova todas as linhas que possuem dados ausentes."
      ]
    },
    {
      "cell_type": "code",
      "metadata": {
        "id": "JDAdx_Wdw_g-",
        "colab_type": "code",
        "colab": {
          "base_uri": "https://localhost:8080/",
          "height": 238
        },
        "outputId": "f1983ec1-7eba-47f0-8353-4d9907d2c560"
      },
      "source": [
        "dados_ausentes = np.delete(dados_titanic3, i, axis=0)\n",
        "print(dados_ausentes)"
      ],
      "execution_count": 73,
      "outputs": [
        {
          "output_type": "stream",
          "text": [
            "[[1.000000e+00 1.000000e+00 1.000000e+00 ... 2.416000e+04 2.113375e+02\n",
            "           nan]\n",
            " [2.000000e+00 1.000000e+00 1.000000e+00 ... 1.137810e+05 1.515500e+02\n",
            "           nan]\n",
            " [3.000000e+00 1.000000e+00 0.000000e+00 ... 1.137810e+05 1.515500e+02\n",
            "           nan]\n",
            " ...\n",
            " [1.307000e+03 3.000000e+00 0.000000e+00 ... 2.656000e+03 7.225000e+03\n",
            "           nan]\n",
            " [1.308000e+03 3.000000e+00 0.000000e+00 ... 2.670000e+03 7.225000e+03\n",
            "           nan]\n",
            " [1.309000e+03 3.000000e+00 0.000000e+00 ... 3.150820e+05 7.875000e+03\n",
            "           nan]]\n"
          ],
          "name": "stdout"
        }
      ]
    },
    {
      "cell_type": "markdown",
      "metadata": {
        "id": "THJps2LVw_hA",
        "colab_type": "text"
      },
      "source": [
        "7. Mostre todos os dados das 5 primeiras linhas do dataset."
      ]
    },
    {
      "cell_type": "code",
      "metadata": {
        "id": "YJ8dAQLtw_hB",
        "colab_type": "code",
        "colab": {
          "base_uri": "https://localhost:8080/",
          "height": 272
        },
        "outputId": "dfd07bfb-8064-4797-9aa7-152de23d42d3"
      },
      "source": [
        "print(dados_titanic3[:5])"
      ],
      "execution_count": 72,
      "outputs": [
        {
          "output_type": "stream",
          "text": [
            "[[1.000000e+00 1.000000e+00 1.000000e+00          nan          nan\n",
            "  2.900000e+01 0.000000e+00 0.000000e+00 2.416000e+04 2.113375e+02\n",
            "           nan]\n",
            " [2.000000e+00 1.000000e+00 1.000000e+00          nan          nan\n",
            "  1.000000e+00 1.000000e+00 2.000000e+00 1.137810e+05 1.515500e+02\n",
            "           nan]\n",
            " [3.000000e+00 1.000000e+00 0.000000e+00          nan          nan\n",
            "  2.000000e+00 1.000000e+00 2.000000e+00 1.137810e+05 1.515500e+02\n",
            "           nan]\n",
            " [4.000000e+00 1.000000e+00 0.000000e+00          nan          nan\n",
            "  3.000000e+01 1.000000e+00 2.000000e+00 1.137810e+05 1.515500e+02\n",
            "           nan]\n",
            " [5.000000e+00 1.000000e+00 0.000000e+00          nan          nan\n",
            "  2.500000e+01 1.000000e+00 2.000000e+00 1.137810e+05 1.515500e+02\n",
            "           nan]]\n"
          ],
          "name": "stdout"
        }
      ]
    },
    {
      "cell_type": "markdown",
      "metadata": {
        "id": "DLGuyB3Ow_hC",
        "colab_type": "text"
      },
      "source": [
        "8. Crie as variáveis: `idade`, `irmaos_conjuges`, `pais_filhos` e `tarifa`; com todos os dados dessas colunas, e, tipos de dados conforme a tabela abaixo:\n",
        "\n",
        "| Nº | Coluna          | Tipo de Dados |\n",
        "|:--:|-----------------|---------------|\n",
        "|  6 | idade           | int           |\n",
        "|  7 | irmaos_conjuges | int           |\n",
        "|  8 | pais_filhos     | int           |\n",
        "| 10 | tarifa          | float         |"
      ]
    },
    {
      "cell_type": "code",
      "metadata": {
        "id": "ku6laV1kw_hD",
        "colab_type": "code",
        "colab": {}
      },
      "source": [
        "idade = dados_titanic3[:,5].astype(int)\n",
        "irmaos_conjuges = dados_titanic3[:,6].astype(int)\n",
        "pais_filhos = dados_titanic3[:,7].astype(int)\n",
        "tarifa = dados_titanic3[:,9].astype(float)"
      ],
      "execution_count": 83,
      "outputs": []
    },
    {
      "cell_type": "markdown",
      "metadata": {
        "id": "ZuNZmE89w_hF",
        "colab_type": "text"
      },
      "source": [
        "9. Selecione as primeiras 5 linhas dos dados."
      ]
    },
    {
      "cell_type": "code",
      "metadata": {
        "id": "mVjSv8ZVw_hG",
        "colab_type": "code",
        "colab": {
          "base_uri": "https://localhost:8080/",
          "height": 34
        },
        "outputId": "a405f330-a98e-4854-c5b7-941ee26914d2"
      },
      "source": [
        "print(idade,irmaos_conjuges,pais_filhos,tarifa[:5])"
      ],
      "execution_count": 84,
      "outputs": [
        {
          "output_type": "stream",
          "text": [
            "[29  1  2 ... 27 27 29] [0 1 1 ... 0 0 0] [0 2 2 ... 0 0 0] [211.3375 151.55   151.55   151.55   151.55  ]\n"
          ],
          "name": "stdout"
        }
      ]
    },
    {
      "cell_type": "markdown",
      "metadata": {
        "id": "1MJD7fdvw_hI",
        "colab_type": "text"
      },
      "source": [
        "10. Considerando o vetor `idades`, selecione todas as idades das crianças a bordo menores de 12 anos inclusive."
      ]
    },
    {
      "cell_type": "code",
      "metadata": {
        "id": "aj2CT_Lww_hI",
        "colab_type": "code",
        "colab": {
          "base_uri": "https://localhost:8080/",
          "height": 34
        },
        "outputId": "5e8b1b73-43f1-43fa-ef49-275c909c984e"
      },
      "source": [
        "menores_12_anos = idade <= 12\n",
        "print(idade)"
      ],
      "execution_count": 85,
      "outputs": [
        {
          "output_type": "stream",
          "text": [
            "[29  1  2 ... 27 27 29]\n"
          ],
          "name": "stdout"
        }
      ]
    },
    {
      "cell_type": "markdown",
      "metadata": {
        "id": "2u6rEhrOw_hK",
        "colab_type": "text"
      },
      "source": [
        "11. Qual é a média das idades?"
      ]
    },
    {
      "cell_type": "code",
      "metadata": {
        "id": "oHAI5yxHw_hK",
        "colab_type": "code",
        "colab": {}
      },
      "source": [
        ""
      ],
      "execution_count": 79,
      "outputs": []
    },
    {
      "cell_type": "markdown",
      "metadata": {
        "id": "AvB8BO5Zw_hM",
        "colab_type": "text"
      },
      "source": [
        "12. Quais é a maior e menor idade?"
      ]
    },
    {
      "cell_type": "code",
      "metadata": {
        "id": "QFP-jv9-w_hN",
        "colab_type": "code",
        "colab": {
          "base_uri": "https://localhost:8080/",
          "height": 51
        },
        "outputId": "5435423e-8bb9-47a3-ab75-82ccafd7eb35"
      },
      "source": [
        "print('Maior idade: ', idade.max())\n",
        "print('Menor idade: ', idade.min())"
      ],
      "execution_count": 86,
      "outputs": [
        {
          "output_type": "stream",
          "text": [
            "Maior idade:  80\n",
            "Menor idade:  -9223372036854775808\n"
          ],
          "name": "stdout"
        }
      ]
    },
    {
      "cell_type": "markdown",
      "metadata": {
        "id": "-intvdo7w_hP",
        "colab_type": "text"
      },
      "source": [
        "13. Crie um vetor chamado `sobreviventes` com todos os dados das pessoas que sobreviveram ao naufrágio."
      ]
    },
    {
      "cell_type": "code",
      "metadata": {
        "id": "hxjRwqaEw_hQ",
        "colab_type": "code",
        "colab": {
          "base_uri": "https://localhost:8080/",
          "height": 34
        },
        "outputId": "ad2be83c-1fa6-4a28-d83c-ae0d3b708a91"
      },
      "source": [
        "filtro = dados_titanic3[:, 2] == 1\n",
        "sobreviventes = dados_titanic3[filtro, :] \n",
        "print(filtro)"
      ],
      "execution_count": 88,
      "outputs": [
        {
          "output_type": "stream",
          "text": [
            "[ True  True False ... False False False]\n"
          ],
          "name": "stdout"
        }
      ]
    },
    {
      "cell_type": "markdown",
      "metadata": {
        "id": "t1O0b773w_hS",
        "colab_type": "text"
      },
      "source": [
        "14. Segundo este conjunto de dados, quantas pessoas sobreviveram ao naufrágio?"
      ]
    },
    {
      "cell_type": "code",
      "metadata": {
        "id": "s8Gl6KqUw_hT",
        "colab_type": "code",
        "colab": {
          "base_uri": "https://localhost:8080/",
          "height": 34
        },
        "outputId": "71ac22c0-e9d6-4585-9338-a1458ef2b60a"
      },
      "source": [
        "print(len(sobreviventes))"
      ],
      "execution_count": 89,
      "outputs": [
        {
          "output_type": "stream",
          "text": [
            "500\n"
          ],
          "name": "stdout"
        }
      ]
    },
    {
      "cell_type": "markdown",
      "metadata": {
        "id": "wVISZJq0w_hV",
        "colab_type": "text"
      },
      "source": [
        "15.  Considerando a coluna `idade` dos sobreviventes calcule:\n",
        "    - Média\n",
        "    - Mediana\n",
        "    - Máximo\n",
        "    - Mínimo"
      ]
    },
    {
      "cell_type": "code",
      "metadata": {
        "id": "qel_HRBYw_hW",
        "colab_type": "code",
        "colab": {
          "base_uri": "https://localhost:8080/",
          "height": 85
        },
        "outputId": "e6c61c43-04f6-41ea-ec63-80502eb366f6"
      },
      "source": [
        "idade_vivos = dados_titanic3[filtro, 5].astype(int)\n",
        "print('Média: ', idade_vivos.mean())\n",
        "print('Mediana: ', np.median(idade_vivos))\n",
        "print('Máximo: ', idade_vivos.max())\n",
        "print('Mínimo', idade_vivos.min())"
      ],
      "execution_count": 91,
      "outputs": [
        {
          "output_type": "stream",
          "text": [
            "Média:  -1.3466123173807972e+18\n",
            "Mediana:  24.5\n",
            "Máximo:  80\n",
            "Mínimo -9223372036854775808\n"
          ],
          "name": "stdout"
        }
      ]
    },
    {
      "cell_type": "markdown",
      "metadata": {
        "id": "WSfJIu1Zw_hY",
        "colab_type": "text"
      },
      "source": [
        "16. Crie um vetor chamado `vitimas_naufragio` com todos os dados das pessoas que não sobreviveram ao naufrágio."
      ]
    },
    {
      "cell_type": "code",
      "metadata": {
        "id": "iGFhjEcTw_hY",
        "colab_type": "code",
        "colab": {
          "base_uri": "https://localhost:8080/",
          "height": 238
        },
        "outputId": "a953179b-0245-434b-e8d0-f1554905cc9a"
      },
      "source": [
        "mortos = dados_titanic3[:, 2] != '1'\n",
        "vitimas_naufragio = dados_titanic3[mortos, :]\n",
        "\n",
        "print(vitimas_naufragio)"
      ],
      "execution_count": 95,
      "outputs": [
        {
          "output_type": "stream",
          "text": [
            "[[[1.000000e+00 1.000000e+00 1.000000e+00 ... 2.416000e+04 2.113375e+02\n",
            "            nan]\n",
            "  [2.000000e+00 1.000000e+00 1.000000e+00 ... 1.137810e+05 1.515500e+02\n",
            "            nan]\n",
            "  [3.000000e+00 1.000000e+00 0.000000e+00 ... 1.137810e+05 1.515500e+02\n",
            "            nan]\n",
            "  ...\n",
            "  [1.307000e+03 3.000000e+00 0.000000e+00 ... 2.656000e+03 7.225000e+03\n",
            "            nan]\n",
            "  [1.308000e+03 3.000000e+00 0.000000e+00 ... 2.670000e+03 7.225000e+03\n",
            "            nan]\n",
            "  [1.309000e+03 3.000000e+00 0.000000e+00 ... 3.150820e+05 7.875000e+03\n",
            "            nan]]]\n"
          ],
          "name": "stdout"
        }
      ]
    },
    {
      "cell_type": "markdown",
      "metadata": {
        "id": "2XPmvW5Dw_ha",
        "colab_type": "text"
      },
      "source": [
        "17. Considerando a coluna `vitimas_naufragio` dos sobreviventes calcule:\n",
        "    - Média\n",
        "    - Mediana\n",
        "    - Máximo\n",
        "    - Mínimo"
      ]
    },
    {
      "cell_type": "code",
      "metadata": {
        "id": "2gqxQ4IUw_ha",
        "colab_type": "code",
        "colab": {
          "base_uri": "https://localhost:8080/",
          "height": 85
        },
        "outputId": "3b072faf-26d2-4157-ae69-baa50944d47f"
      },
      "source": [
        "print(vitimas_naufragio.mean())\n",
        "print(np.median(vitimas_naufragio))\n",
        "print(vitimas_naufragio.max())\n",
        "print(vitimas_naufragio.min())"
      ],
      "execution_count": 93,
      "outputs": [
        {
          "output_type": "stream",
          "text": [
            "nan\n",
            "nan\n",
            "nan\n",
            "nan\n"
          ],
          "name": "stdout"
        }
      ]
    },
    {
      "cell_type": "markdown",
      "metadata": {
        "id": "tjI9yAmxw_hc",
        "colab_type": "text"
      },
      "source": [
        "18. Qual era o preço médio das tarifas?"
      ]
    },
    {
      "cell_type": "code",
      "metadata": {
        "id": "6Pms8CdWw_hc",
        "colab_type": "code",
        "colab": {
          "base_uri": "https://localhost:8080/",
          "height": 34
        },
        "outputId": "edda92bd-9183-45d1-bd67-2a37bea41353"
      },
      "source": [
        "vazio = dados_titanic3[:, 9] != ''\n",
        "tarifa = dados_titanic3[vazio, 9].astype(int)\n",
        "\n",
        "print(tarifa.mean())"
      ],
      "execution_count": 97,
      "outputs": [
        {
          "output_type": "stream",
          "text": [
            "-3.3539534679471913e+18\n"
          ],
          "name": "stdout"
        }
      ]
    },
    {
      "cell_type": "markdown",
      "metadata": {
        "id": "mW5f3ijjw_he",
        "colab_type": "text"
      },
      "source": [
        "19. Crie os vetores `classe_alta`, `classe_media` e `classe_baixa`, com os respectivos dados da coluna `classe` no qual:\n",
        "    - 1 = Classe Alta\n",
        "    - 2 = Classe Média\n",
        "    - 3 = Classe Baixa"
      ]
    },
    {
      "cell_type": "code",
      "metadata": {
        "id": "EpaOo2zbw_he",
        "colab_type": "code",
        "colab": {}
      },
      "source": [
        "C1 = dados_titanic3[:, 1] == 1\n",
        "classe_alta = dados_titanic3[C1, :]\n",
        "\n",
        "C2 = dados_titanic3[:, 1] == 2\n",
        "classe_media = dados_titanic3[C2, :]\n",
        "\n",
        "C3 = dados_titanic3[:, 1] == 3\n",
        "classe_baixa = dados_titanic3[C3, :]"
      ],
      "execution_count": 98,
      "outputs": []
    },
    {
      "cell_type": "markdown",
      "metadata": {
        "id": "-pGP-c4dw_hg",
        "colab_type": "text"
      },
      "source": [
        "20. Qual é o número total de passageiros por classe social?"
      ]
    },
    {
      "cell_type": "code",
      "metadata": {
        "id": "QoPAvIYtw_hg",
        "colab_type": "code",
        "colab": {
          "base_uri": "https://localhost:8080/",
          "height": 68
        },
        "outputId": "34a2bb90-fc73-4980-be26-6f3ad481c204"
      },
      "source": [
        "print('Classe alta: ', len(classe_alta), 'passageiros')\n",
        "print('Classe média: ', len(classe_media), 'passageiros')\n",
        "print('Classe baixa: ', len(classe_baixa), 'passageiros')"
      ],
      "execution_count": 101,
      "outputs": [
        {
          "output_type": "stream",
          "text": [
            "Classe alta:  323 passageiros\n",
            "Classe média:  277 passageiros\n",
            "Classe baixa:  709 passageiros\n"
          ],
          "name": "stdout"
        }
      ]
    },
    {
      "cell_type": "markdown",
      "metadata": {
        "id": "6jtmkeUxw_hj",
        "colab_type": "text"
      },
      "source": [
        "# REFERÊNCIAS\n",
        "\n",
        "- [Titanic: Machine Learning from Disaster](https://www.kaggle.com/c/titanic/data)\n",
        "- [Encyclopedia Titanica](https://www.encyclopedia-titanica.org/)\n",
        "- [Basic Feature Engineering with the Titanic Data](https://triangleinequality.wordpress.com/2013/09/08/basic-feature-engineering-with-the-titanic-data/)\n",
        "- Hind, Philip.  \"Encyclopedia Titanica.\"  Online.  Internet. n.p.  02 Aug 1999."
      ]
    }
  ]
}