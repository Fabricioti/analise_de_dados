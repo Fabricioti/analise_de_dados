{
  "nbformat": 4,
  "nbformat_minor": 0,
  "metadata": {
    "colab": {
      "name": "TrabalhoComplementarAnalisedados2020/1.ipynb",
      "provenance": [],
      "collapsed_sections": [],
      "toc_visible": true,
      "include_colab_link": true
    },
    "kernelspec": {
      "name": "python3",
      "display_name": "Python 3"
    }
  },
  "cells": [
    {
      "cell_type": "markdown",
      "metadata": {
        "id": "view-in-github",
        "colab_type": "text"
      },
      "source": [
        "<a href=\"https://colab.research.google.com/github/Fabricioti/analise_de_dados/blob/master/TrabalhoComplementarAnalisedados2020_1.ipynb\" target=\"_parent\"><img src=\"https://colab.research.google.com/assets/colab-badge.svg\" alt=\"Open In Colab\"/></a>"
      ]
    },
    {
      "cell_type": "markdown",
      "metadata": {
        "id": "kN9KVOZVy_aO"
      },
      "source": [
        "## COVID-19 • Trabalho Complementar Análise de Dados 2020/1\n",
        "\n",
        "\n",
        "---\n",
        "\n",
        "**Nome**: Fabrício Silva Faria <br>\n",
        "**RA**: 31610363\n",
        "\n",
        "**Descrição**: Utilizando Relatórios de tendências de movimentação\n",
        "durante a pandemia de COVID‑19. Os relatórios foram importados e refletem solicitações de direções no Mapas da Apple durante o período de 13/01/2020 até 13/06/2020.\n",
        "\n",
        "**Objetivo**: O objetivo aqui é fazer uma análise na base de dados fornecisa pela Apple sobre as solicitações de direção pelo seu aplicativo de locomoção e conseguir obter informações para análisar os dados e comportamentos dos diferentes países cadastrados e elaborar algumnas questões para serem respondidas e nos auxiliar nesse trabalho de análise exploratório utilizando Numpy e o conhecimento adquirido nas aulas ao longo do semestre.\n",
        "\n"
      ]
    },
    {
      "cell_type": "markdown",
      "metadata": {
        "id": "cuktCfST6olF"
      },
      "source": [
        "\n",
        "##01 Exercícios iniciais para aquecimento e configuração da pesquisa sobre o covid19\n",
        "A seguir irei passar alguns exercícios básicos para que o ambiente esteja preparado e seja possível realizar as consultas mais apuradas logo em seguida."
      ]
    },
    {
      "cell_type": "markdown",
      "metadata": {
        "id": "uTVSHYoipvRp"
      },
      "source": [
        ""
      ]
    },
    {
      "cell_type": "markdown",
      "metadata": {
        "id": "ZwEr_YhDzHrw"
      },
      "source": [
        "1. Faça importação do pacote numpy com o nome np."
      ]
    },
    {
      "cell_type": "code",
      "metadata": {
        "id": "fTZCkfatxnCX"
      },
      "source": [
        "import numpy as np"
      ],
      "execution_count": null,
      "outputs": []
    },
    {
      "cell_type": "markdown",
      "metadata": {
        "id": "46BAnx67zYYS"
      },
      "source": [
        "### 2. Faça o upload do conjunto de dados da Apple para uma variável chamada dadoscovid19.\n",
        "\n",
        "\n",
        "*   Especifique a codificação UTF-8;\n",
        "*   Adcione o delimitador = ','  ;\n",
        "*   Utilize a função genfromtxt;\n",
        "\n"
      ]
    },
    {
      "cell_type": "code",
      "metadata": {
        "id": "S4kzLU10zhH1",
        "outputId": "746580f2-56f0-41f5-886d-190c603a3d31",
        "colab": {
          "base_uri": "https://localhost:8080/",
          "height": 136
        }
      },
      "source": [
        "dadoscovid19 = np.genfromtxt('apple2020.csv',skip_header=True, delimiter = ',',encoding='UTF-8')\n",
        "\n",
        "print (dadoscovid19)"
      ],
      "execution_count": null,
      "outputs": [
        {
          "output_type": "stream",
          "text": [
            "[[   nan    nan    nan ... 111.52 117.39 128.99]\n",
            " [   nan    nan    nan ... 134.41 142.26 142.22]\n",
            " [   nan    nan    nan ...  68.45  84.94  88.93]\n",
            " ...\n",
            " [   nan    nan    nan ... 159.74 189.88 196.89]\n",
            " [   nan    nan    nan ... 127.58 166.58 161.09]\n",
            " [   nan    nan    nan ... 149.18 180.86 191.24]]\n"
          ],
          "name": "stdout"
        }
      ]
    },
    {
      "cell_type": "markdown",
      "metadata": {
        "id": "kVuo6e1Q4wTy"
      },
      "source": [
        "### 3. Informe o número de linhas lidas do arquivo:"
      ]
    },
    {
      "cell_type": "code",
      "metadata": {
        "id": "bYgHe3PW4wiM",
        "outputId": "b32175d2-1767-4b57-b446-5221e6014f78",
        "colab": {
          "base_uri": "https://localhost:8080/",
          "height": 34
        }
      },
      "source": [
        "print(len(dadoscovid19)) "
      ],
      "execution_count": null,
      "outputs": [
        {
          "output_type": "stream",
          "text": [
            "4691\n"
          ],
          "name": "stdout"
        }
      ]
    },
    {
      "cell_type": "markdown",
      "metadata": {
        "id": "X4ZUUN5r6bLK"
      },
      "source": [
        "### 4. Informe o número de dimensões a variável dadoscovid19 possui:"
      ]
    },
    {
      "cell_type": "code",
      "metadata": {
        "id": "llGmc6jR6gmg",
        "outputId": "026592fd-7613-4ab3-804a-0ddd772cb159",
        "colab": {
          "base_uri": "https://localhost:8080/",
          "height": 34
        }
      },
      "source": [
        "print(dadoscovid19.ndim)  \n"
      ],
      "execution_count": null,
      "outputs": [
        {
          "output_type": "stream",
          "text": [
            "2\n"
          ],
          "name": "stdout"
        }
      ]
    },
    {
      "cell_type": "markdown",
      "metadata": {
        "id": "C0BsjSZN8P7G"
      },
      "source": [
        "### 5. O que a função shape esta retornando ?"
      ]
    },
    {
      "cell_type": "code",
      "metadata": {
        "id": "nsna0C5a8QJK",
        "outputId": "037ddf0f-db79-4bdf-ff69-0de3d6544baa",
        "colab": {
          "base_uri": "https://localhost:8080/",
          "height": 34
        }
      },
      "source": [
        "print(dadoscovid19.shape)  \n"
      ],
      "execution_count": null,
      "outputs": [
        {
          "output_type": "stream",
          "text": [
            "(4691, 285)\n"
          ],
          "name": "stdout"
        }
      ]
    },
    {
      "cell_type": "markdown",
      "metadata": {
        "id": "CXZt3fcV8fFW"
      },
      "source": [
        "### 6. Exiba o dado que está na 5ª linha da 8ª coluna:"
      ]
    },
    {
      "cell_type": "code",
      "metadata": {
        "id": "Zrxhs_uB8fNm",
        "outputId": "43ddec84-a734-4b7d-a72f-abcd9dee2632",
        "colab": {
          "base_uri": "https://localhost:8080/",
          "height": 34
        }
      },
      "source": [
        "print(dadoscovid19[4, 7])"
      ],
      "execution_count": null,
      "outputs": [
        {
          "output_type": "stream",
          "text": [
            "102.98\n"
          ],
          "name": "stdout"
        }
      ]
    },
    {
      "cell_type": "markdown",
      "metadata": {
        "id": "Bg_pYpKK9bgy"
      },
      "source": [
        "### 7. Exiba as 10 primeiras linhas do conjunto de dados:"
      ]
    },
    {
      "cell_type": "code",
      "metadata": {
        "id": "sO3TGoRV9bvR",
        "outputId": "3d63bd08-ccba-4e57-cfae-6109582e39c7",
        "colab": {
          "base_uri": "https://localhost:8080/",
          "height": 136
        }
      },
      "source": [
        "print(dadoscovid19[10:])"
      ],
      "execution_count": null,
      "outputs": [
        {
          "output_type": "stream",
          "text": [
            "[[   nan    nan    nan ... 109.52 109.81  98.61]\n",
            " [   nan    nan    nan ... 119.63 118.91 139.35]\n",
            " [   nan    nan    nan ... 109.27 126.28 132.94]\n",
            " ...\n",
            " [   nan    nan    nan ... 159.74 189.88 196.89]\n",
            " [   nan    nan    nan ... 127.58 166.58 161.09]\n",
            " [   nan    nan    nan ... 149.18 180.86 191.24]]\n"
          ],
          "name": "stdout"
        }
      ]
    },
    {
      "cell_type": "markdown",
      "metadata": {
        "id": "rRhiNYC97f59"
      },
      "source": [
        "##02 Pesquisa sobre o covid19 - Relatórios de tendências de movimentação Apple\n",
        "\n",
        "A seguir encoontra-se os exercícios mais apurados para realização de uma análise dos dados dos relátorios de tendências de movimentação disponível no [site da Apple](https://www.apple.com/covid19/mobility) e já importado e configurado no exercício anterior."
      ]
    },
    {
      "cell_type": "markdown",
      "metadata": {
        "id": "9EwlBgbZ9trU"
      },
      "source": [
        "### 1. Selecione todas as linhas da coluna regiões dentro da base de dados"
      ]
    },
    {
      "cell_type": "code",
      "metadata": {
        "id": "pUMbLB-e9_wo",
        "outputId": "60f1e531-8baa-44eb-8a13-1b718dd2aefa",
        "colab": {
          "base_uri": "https://localhost:8080/",
          "height": 34
        }
      },
      "source": [
        "print(dadoscovid19[:,1])"
      ],
      "execution_count": null,
      "outputs": [
        {
          "output_type": "stream",
          "text": [
            "[nan nan nan ... nan nan nan]\n"
          ],
          "name": "stdout"
        }
      ]
    },
    {
      "cell_type": "markdown",
      "metadata": {
        "id": "6WoY0SkI-md2"
      },
      "source": [
        "### 2. Crie um vetor numpy chamado data14 que irá pegar todas as linhas da coluna 14/01/2020 representando todos os dados daquele dia"
      ]
    },
    {
      "cell_type": "code",
      "metadata": {
        "id": "2BsBTt8C-moN",
        "outputId": "5ba50e64-6d3f-417c-9b8a-151fecdadfa7",
        "colab": {
          "base_uri": "https://localhost:8080/",
          "height": 34
        }
      },
      "source": [
        "data14 = np.array(dadoscovid19[:,7], dtype=int)\n",
        "print (data14)"
      ],
      "execution_count": null,
      "outputs": [
        {
          "output_type": "stream",
          "text": [
            "[ 95 100  97 ... 102 101  95]\n"
          ],
          "name": "stdout"
        }
      ]
    },
    {
      "cell_type": "markdown",
      "metadata": {
        "id": "Ft12HcJn_-Ba"
      },
      "source": [
        "### 3. Qual é o valor médio encontrado na data 14/01/2020?"
      ]
    },
    {
      "cell_type": "code",
      "metadata": {
        "id": "NvFNs17R_-JB",
        "outputId": "2a63d15b-4521-4f61-90e9-b3e993be734c",
        "colab": {
          "base_uri": "https://localhost:8080/",
          "height": 34
        }
      },
      "source": [
        "np.median(data14)\n"
      ],
      "execution_count": null,
      "outputs": [
        {
          "output_type": "execute_result",
          "data": {
            "text/plain": [
              "101.0"
            ]
          },
          "metadata": {
            "tags": []
          },
          "execution_count": 163
        }
      ]
    },
    {
      "cell_type": "markdown",
      "metadata": {
        "id": "pekboz4nDqz5"
      },
      "source": [
        "### 4. Qual foi o maior valor encontrado no dia 14/01/2020"
      ]
    },
    {
      "cell_type": "code",
      "metadata": {
        "id": "PmuqHyTIDq-i",
        "outputId": "7f3350ac-bf81-4d7c-ea6c-79d15bad39af",
        "colab": {
          "base_uri": "https://localhost:8080/",
          "height": 34
        }
      },
      "source": [
        " print(data14.max())"
      ],
      "execution_count": null,
      "outputs": [
        {
          "output_type": "stream",
          "text": [
            "169\n"
          ],
          "name": "stdout"
        }
      ]
    },
    {
      "cell_type": "markdown",
      "metadata": {
        "id": "WJEYdwJuEYZh"
      },
      "source": [
        "### 5. Qual foi o menor valor encontrado no dia 14/01/2020"
      ]
    },
    {
      "cell_type": "code",
      "metadata": {
        "id": "vSmwriALEYkC",
        "outputId": "e683b046-3db2-442e-c3c5-31f1db9fe552",
        "colab": {
          "base_uri": "https://localhost:8080/",
          "height": 34
        }
      },
      "source": [
        "print(data14.min())"
      ],
      "execution_count": null,
      "outputs": [
        {
          "output_type": "stream",
          "text": [
            "-9223372036854775808\n"
          ],
          "name": "stdout"
        }
      ]
    },
    {
      "cell_type": "markdown",
      "metadata": {
        "id": "U0xoIq_oFcpd"
      },
      "source": [
        "### 6. Crie um vetor para pegar todos os dados do dia 14/02/2020"
      ]
    },
    {
      "cell_type": "code",
      "metadata": {
        "id": "EX_cykJ7Fc2t",
        "outputId": "00635d0f-ad5c-42c8-bdf8-e1a15316f734",
        "colab": {
          "base_uri": "https://localhost:8080/",
          "height": 34
        }
      },
      "source": [
        "data1402 = np.array(dadoscovid19[:,35], dtype=int)\n",
        "print (data1402)"
      ],
      "execution_count": null,
      "outputs": [
        {
          "output_type": "stream",
          "text": [
            "[ 94  90  96 ... 100 106 114]\n"
          ],
          "name": "stdout"
        }
      ]
    },
    {
      "cell_type": "markdown",
      "metadata": {
        "id": "9Oo_y9IwGYfc"
      },
      "source": [
        "### 7. Crie um vetor para pegar todos os dados do dia 14/03/2020"
      ]
    },
    {
      "cell_type": "code",
      "metadata": {
        "id": "fZ39HTuPGYrJ",
        "outputId": "6805150e-bf40-4465-d5e3-ccd27a1b82e8",
        "colab": {
          "base_uri": "https://localhost:8080/",
          "height": 34
        }
      },
      "source": [
        "data1403 = np.array(dadoscovid19[:,67], dtype=int)\n",
        "print (data1403)"
      ],
      "execution_count": null,
      "outputs": [
        {
          "output_type": "stream",
          "text": [
            "[ 24  37  84 ... 110 100 130]\n"
          ],
          "name": "stdout"
        }
      ]
    },
    {
      "cell_type": "markdown",
      "metadata": {
        "id": "zMEbPtbjFr7a"
      },
      "source": [
        "### 8. Compare a média do dia 14/01, 14/02 e 14/03 e veja se aumentou ou diminuiu"
      ]
    },
    {
      "cell_type": "code",
      "metadata": {
        "id": "WgATmzoHFsCI",
        "outputId": "5bd7bad0-45c4-44b3-e19c-1940d45d73dc",
        "colab": {
          "base_uri": "https://localhost:8080/",
          "height": 84
        }
      },
      "source": [
        "\n",
        "print('\\n DIA 14/01:',np.median(data14),  '\\n DIA 14/02:',np.median(data1402),  '\\n DIA 14/03:',np.median(data1403))\n",
        " "
      ],
      "execution_count": null,
      "outputs": [
        {
          "output_type": "stream",
          "text": [
            "\n",
            " DIA 14/01: 101.0 \n",
            " DIA 14/02: 105.0 \n",
            " DIA 14/03: 109.0\n"
          ],
          "name": "stdout"
        }
      ]
    },
    {
      "cell_type": "markdown",
      "metadata": {
        "id": "6lvh4WCbJ7KP"
      },
      "source": [
        "### 9. Crie um vetor brasil_transito para pegar todos os dados de solicitação de transito do Brasil"
      ]
    },
    {
      "cell_type": "code",
      "metadata": {
        "id": "IOR7cy0TJ7Zj",
        "outputId": "d15d4260-5949-4536-86b5-31daac3eaf0a",
        "colab": {
          "base_uri": "https://localhost:8080/",
          "height": 1000
        }
      },
      "source": [
        "brasil_transito = np.array(dadoscovid19[12,6:], dtype=int)\n",
        "print (brasil_transito)"
      ],
      "execution_count": null,
      "outputs": [
        {
          "output_type": "stream",
          "text": [
            "[                 100                   99                  100\n",
            "                  101                  113                  114\n",
            "                   91                   97                   98\n",
            "                   97                   98                  109\n",
            "                  111                   88                   92\n",
            "                   95                   94                   96\n",
            "                  109                  109                   83\n",
            "                   92                   92                   93\n",
            "                   96                  114                  117\n",
            "                   86                   99                   95\n",
            "                   98                   98                  115\n",
            "                  123                   92                   95\n",
            "                   99                  102                  109\n",
            "                  141                  140                  103\n",
            "                  102                   99                   92\n",
            "                   91                  101                  107\n",
            "                   77                   88                   90\n",
            "                   92                   95                  110\n",
            "                  118                   82                   90\n",
            "                   92                   92                   89\n",
            "                  103                  106                   71\n",
            "                   70                   64                   58\n",
            "                   52                   51                   39\n",
            "                   27                   34                   34\n",
            "                   35                   37                   42\n",
            "                   41                   30                   40\n",
            "                   41                   44                   45\n",
            "                   50                   50                   35\n",
            "                   45                   48                   51\n",
            "                   58                   44                   58\n",
            "                   36                   46                   47\n",
            "                   49                   50                   56\n",
            "                   56                   38                   51\n",
            "                   45                   53                   55\n",
            "                   59                   59                   40\n",
            "                   51                   54                   56\n",
            "                   64                   55                   58\n",
            "                   42                   55                   59\n",
            "                   61                   60                   70\n",
            "                   73                   45 -9223372036854775808\n",
            " -9223372036854775808                   58                   60\n",
            "                   68                   67                   45\n",
            "                   58                   61                   63\n",
            "                   64                   72                   68\n",
            "                   46                   58                   63\n",
            "                   64                   67                   77\n",
            "                   78                   52                   64\n",
            "                   68                   71                   71\n",
            "                   84                   84                   56\n",
            "                   71                   76                   85\n",
            "                   78                  102                   81\n",
            "                   57                   68                   72\n",
            "                   73                   74                   85\n",
            "                   87                   61                   74\n",
            "                   77                   76                   76\n",
            "                   86                   81                   57\n",
            "                   71                   74                   75\n",
            "                   79                   91                   92\n",
            "                   63                   78                   83\n",
            "                   85                   86                  112\n",
            "                   98                   69                   82\n",
            "                   87                   86                   86\n",
            "                  101                  100                   71\n",
            "                   87                   87                   90\n",
            "                   92                  106                  105\n",
            "                   74                   85                   89\n",
            "                   89                   90                  101\n",
            "                  105                   75                   87\n",
            "                   91                   94                   97\n",
            "                  115                  116                   73\n",
            "                   89                   93                   94\n",
            "                   96                  115                  114\n",
            "                   79                   89                   91\n",
            "                   93                   97                  108\n",
            "                  110                   77                   89\n",
            "                   95                   96                   99\n",
            "                  118                  122                   87\n",
            "                   93                   99                  103\n",
            "                  108                  139                  145\n",
            "                  108                  110                  103\n",
            "                  104                  107                  127\n",
            "                  131                   95                   99\n",
            "                  102                  105                  112\n",
            "                  130                  133                   90\n",
            "                   96                   98                  100\n",
            "                  104                  125                  131\n",
            "                   92                   95                  100\n",
            "                  101                  107                  127\n",
            "                  130                   91                   99\n",
            "                  105                  109                  114\n",
            "                  143                  149                  111\n",
            "                  112                  103                  106\n",
            "                  109                  126                  132]\n"
          ],
          "name": "stdout"
        }
      ]
    },
    {
      "cell_type": "markdown",
      "metadata": {
        "id": "ZxDJE7k1KM2p"
      },
      "source": [
        "### 10. Informe o valor máximo que houve de solicitações do Brasil em um único dia"
      ]
    },
    {
      "cell_type": "code",
      "metadata": {
        "id": "beGs4PaSKM-Z",
        "outputId": "719d7cbf-2eb6-4f5b-8f83-6b22cb9d9526",
        "colab": {
          "base_uri": "https://localhost:8080/",
          "height": 34
        }
      },
      "source": [
        "print(brasil_transito.max())"
      ],
      "execution_count": null,
      "outputs": [
        {
          "output_type": "stream",
          "text": [
            "141\n"
          ],
          "name": "stdout"
        }
      ]
    },
    {
      "cell_type": "markdown",
      "metadata": {
        "id": "Up-T3BkxOYJ5"
      },
      "source": [
        "### 11. Informe o valor mínimo que houve de solicitações do Brasil em um único dia"
      ]
    },
    {
      "cell_type": "code",
      "metadata": {
        "id": "NUxbCK3kOYak",
        "outputId": "7d769459-8e94-4734-f4ca-0761c0be625a",
        "colab": {
          "base_uri": "https://localhost:8080/",
          "height": 34
        }
      },
      "source": [
        "print(brasil_transito.min())"
      ],
      "execution_count": null,
      "outputs": [
        {
          "output_type": "stream",
          "text": [
            "-9223372036854775808\n"
          ],
          "name": "stdout"
        }
      ]
    },
    {
      "cell_type": "markdown",
      "metadata": {
        "id": "EZ8jpsmHKPd7"
      },
      "source": [
        "### 12. Informe no dia 20/01/2020 qual o valor retornou para solicitações de direção no Brasil"
      ]
    },
    {
      "cell_type": "code",
      "metadata": {
        "id": "2TXOry1cIV2b",
        "outputId": "4e2bc672-c117-4c0d-eaef-be56fc394aa7",
        "colab": {
          "base_uri": "https://localhost:8080/",
          "height": 34
        }
      },
      "source": [
        "print(dadoscovid19[12, 13])\n"
      ],
      "execution_count": null,
      "outputs": [
        {
          "output_type": "stream",
          "text": [
            "97.54\n"
          ],
          "name": "stdout"
        }
      ]
    },
    {
      "cell_type": "markdown",
      "metadata": {
        "id": "nRjW38S9PNEg"
      },
      "source": [
        "### 13. Informe no dia 25/03/2020 qual foi o valor retornado para solicitações de caminhada na Argentina"
      ]
    },
    {
      "cell_type": "code",
      "metadata": {
        "id": "pTzVBsgdPNRB",
        "outputId": "9c2ff8ea-6c08-41c4-c3ce-4b9c6677e5e1",
        "colab": {
          "base_uri": "https://localhost:8080/",
          "height": 34
        }
      },
      "source": [
        "print(dadoscovid19[3, 78])"
      ],
      "execution_count": null,
      "outputs": [
        {
          "output_type": "stream",
          "text": [
            "10.92\n"
          ],
          "name": "stdout"
        }
      ]
    },
    {
      "cell_type": "markdown",
      "metadata": {
        "id": "B0fBPSMcP6WX"
      },
      "source": [
        "### 14. Compare os dados do dia 25/03(questão anterior) com os dados do mesmo dia do Brasil para buscas de caminhada."
      ]
    },
    {
      "cell_type": "code",
      "metadata": {
        "id": "oN9DhEnKP6NJ",
        "outputId": "dab25c9d-9df8-4f45-b21d-a7538e9273ae",
        "colab": {
          "base_uri": "https://localhost:8080/",
          "height": 50
        }
      },
      "source": [
        "print('Argentina:', dadoscovid19[3, 78], '\\n Brasil:', dadoscovid19[14, 78] )"
      ],
      "execution_count": null,
      "outputs": [
        {
          "output_type": "stream",
          "text": [
            "Argentina: 10.92 \n",
            " Brasil: 27.96\n"
          ],
          "name": "stdout"
        }
      ]
    },
    {
      "cell_type": "markdown",
      "metadata": {
        "id": "Nup4GbekQh_I"
      },
      "source": [
        "### 15. Compare os dados de direção, caminhada e trânsito no Canadá no dia 30/01/2020 "
      ]
    },
    {
      "cell_type": "code",
      "metadata": {
        "id": "MpcIjpeyQiHb",
        "outputId": "24ee9f41-fe1a-4559-f2f5-53ae2cdb8349",
        "colab": {
          "base_uri": "https://localhost:8080/",
          "height": 84
        }
      },
      "source": [
        "print('CANADA(30/01/20):','\\n Direção:',dadoscovid19[19, 23],' \\n Caminhada:', dadoscovid19[20, 23], '\\n Trânsito:', dadoscovid19[21, 23])"
      ],
      "execution_count": null,
      "outputs": [
        {
          "output_type": "stream",
          "text": [
            "CANADA(30/01/20): \n",
            " Direção: 109.0  \n",
            " Caminhada: 97.63 \n",
            " Trânsito: 115.16\n"
          ],
          "name": "stdout"
        }
      ]
    },
    {
      "cell_type": "markdown",
      "metadata": {
        "id": "8K8Vi5LBSET4"
      },
      "source": [
        "### 16. Informe qual foi a pontuação para solicitações de caminhada no Chile no dia 25/03"
      ]
    },
    {
      "cell_type": "code",
      "metadata": {
        "id": "I044ayHeSEof",
        "outputId": "7bc6f362-872b-478f-a2b4-e1511a29fdce",
        "colab": {
          "base_uri": "https://localhost:8080/",
          "height": 34
        }
      },
      "source": [
        "print(dadoscovid19[23, 78])"
      ],
      "execution_count": null,
      "outputs": [
        {
          "output_type": "stream",
          "text": [
            "22.76\n"
          ],
          "name": "stdout"
        }
      ]
    },
    {
      "cell_type": "markdown",
      "metadata": {
        "id": "63lLl8W_Sihn"
      },
      "source": [
        "### 17. Informe a pontuação para Trânsito na França no dia 01/04/2020"
      ]
    },
    {
      "cell_type": "code",
      "metadata": {
        "id": "PjbPOJg-SiYe",
        "outputId": "807355e7-3147-4c4c-ebc0-cb2e182edd74",
        "colab": {
          "base_uri": "https://localhost:8080/",
          "height": 34
        }
      },
      "source": [
        "print(dadoscovid19[43, 85])"
      ],
      "execution_count": null,
      "outputs": [
        {
          "output_type": "stream",
          "text": [
            "11.92\n"
          ],
          "name": "stdout"
        }
      ]
    }
  ]
}