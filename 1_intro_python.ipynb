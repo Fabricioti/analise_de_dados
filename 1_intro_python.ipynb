{
  "nbformat": 4,
  "nbformat_minor": 0,
  "metadata": {
    "kernelspec": {
      "display_name": "Python 3",
      "language": "python",
      "name": "python3"
    },
    "language_info": {
      "codemirror_mode": {
        "name": "ipython",
        "version": 3
      },
      "file_extension": ".py",
      "mimetype": "text/x-python",
      "name": "python",
      "nbconvert_exporter": "python",
      "pygments_lexer": "ipython3",
      "version": "3.7.4"
    },
    "colab": {
      "name": "1_intro_python.ipynb",
      "provenance": [],
      "collapsed_sections": []
    }
  },
  "cells": [
    {
      "cell_type": "markdown",
      "metadata": {
        "id": "GsC3UI-eyKkX",
        "colab_type": "text"
      },
      "source": [
        "# Bem-Vindo ao Mundo Python!"
      ]
    },
    {
      "cell_type": "markdown",
      "metadata": {
        "id": "c0hHxG21yKka",
        "colab_type": "text"
      },
      "source": [
        "## Variáveis e Tipos\n",
        "* Variáveis são **Locais de Memória**;\n",
        "* Os nomes de variáveis devem ser **mnemônicos**, ou seja, de **fácil memorização**;\n",
        "* Variáveis em Python são **\"Case-sensitive\"** e devem escritas com letras minúsculas, sem qualquer tipo de acentuação gráfica;\n",
        "* Nomes compostos de variáveis devem ser separados por subtraço, por exemplo: nome_variavel_composta;\n",
        "* Python é uma linguagem *dinamicamente tipada*, logo, não informamos o tipo de dados durante a declaração de cada variável;\n",
        "\n",
        "### Tipos de Dados Padrão\n",
        "Os tipos de dados primitivos do Python podem ser classificados como: numéricos, sequências, conjuntos e mapeamentos.\n",
        "\n",
        "*Tipos Numéricos*\n",
        "\n",
        "| Nome    | Descrição                    |  Versão               |\n",
        "|:--------|:-----------------------------|:----------------------|\n",
        "| int     | Números Inteiros             | Todas                 |\n",
        "| long    | Números inteiros Longos      | Python 2.x (Somente)  |\n",
        "| float   | Números de Ponto Flutuante   | Todas                 |\n",
        "| complex | Números Complexos            | Todas                 |\n",
        "\n",
        "*Sequências*\n",
        "\n",
        "| Nome         | Descrição                                                  |  Versão               |\n",
        "|:-------------|:-----------------------------------------------------------|:----------------------|\n",
        "| str          | Cadeia de Caracteres (String)                              | Todas                 |\n",
        "| bytes        | Sequência de números inteiros no intervalo de 0 a 255      | Python 3.x (Somente)  |\n",
        "| byte array   | Semelhante ao tipo bytes, porém, mutáveis                  | Python 3.x (Somente)  |\n",
        "| list         | Lista de itens geralmente homogêneos e mutáveis            | Todas                 |\n",
        "| tuple        | Sequência de itens heterogêneos e imutáveis                | Todas                 |\n",
        "\n",
        "*Conjuntos*\n",
        "\n",
        "| Nome       | Descrição                               |  Versão                |\n",
        "|:-----------|:----------------------------------------|:-----------------------|\n",
        "| set        | coleção não ordenada de objetos únicos  | Python 2.6 ou Superior |\n",
        "| frozen set | Semelhante ao tipo set, porém, imutável | Python 2.6 ou Superior |\n",
        "\n",
        "*Mapeamentos*\n",
        "\n",
        "| Nome       | Descrição                               |  Versão                |\n",
        "|:-----------|:----------------------------------------|:-----------------------|\n",
        "| dict       | Dicionários ou Array Associativos       | Todas                  |\n",
        "\n",
        "\n",
        "#### Objetos Mutáveis X Objetos Imutáveis\n",
        "De modo geral, os tipos de dados em Python podem ser diferenciados como mutáveis e imutáveis.\n",
        "\n",
        "- **Objetos Mutáveis:** o conteúdo pode ser alterado após sua criação;\n",
        "- **Objetos Imutáveis:** o conteúdo **não pode ser alterado** após sua criação;\n",
        "\n",
        "| Tipos Mutáveis       | Tipos Imutáveis                         |\n",
        "|:---------------------|:----------------------------------------|\n",
        "| array                | int, float, complex                     |\n",
        "| bytearray            | str                                     |\n",
        "| list                 | bytes                                   |\n",
        "| set                  | tuple                                   |\n",
        "| dict                 | frozenset                               |\n",
        "| -                    | bool                                    |"
      ]
    },
    {
      "cell_type": "code",
      "metadata": {
        "id": "X3lRZgtYyKkb",
        "colab_type": "code",
        "colab": {}
      },
      "source": [
        "# CONVERSÃO DE TIPO\n",
        "# Aprendendo Conversão de Tipo Com Exemplos\n",
        "\n",
        "# Números Inteiros\n",
        "valor_int_1 = int(2.7) \n",
        "print(valor_int_1) # Saída: 2   \n",
        "\n",
        "valor_int_2 = int(-3.9)\n",
        "print(valor_int_2) # Saída: -3   \n",
        "\n",
        "valor_int_3 = int(\"2\")\n",
        "print(valor_int_3) # Saída: 2  \n",
        "\n",
        "\n",
        "# Números de Ponto Flutuante\n",
        "valor_float_1 = float(7)\n",
        "print(valor_float_1) # Saída: 7.0\n",
        "\n",
        "valor_float_2 = float(\"4.5\")\n",
        "print(valor_float_2) # Saída: 4.5\n",
        "\n",
        "valor_float_4 = float(\"2.7E-2\")\n",
        "print(valor_float_4) # Saída: 0.027\n",
        "\n",
        "valor_float_5 = float(False)\n",
        "print(valor_float_5) # Saída: 0.0\n",
        "\n",
        "valor_float_6 = float(True)\n",
        "print(valor_float_6) # Saída: 1.0\n",
        "\n",
        "\n",
        "# Cadeia de Caracteres\n",
        "valor_string_1 = str(4.5)\n",
        "print(valor_string_1) # Saída: 4.5\n",
        "\n",
        "valor_string_2 = str([1, 2, 3, 4, 5])\n",
        "print(valor_string_2) # Saída: \"[1, 2, 3, 4, 5]\"\n",
        "\n",
        "\n",
        "# Tipos Lógicos (Booleanos)\n",
        "valor_bool_1 = bool(0)\n",
        "print(valor_bool_1) # Saída: False\n",
        "\n",
        "valor_bool_2 = bool(1)\n",
        "print(valor_bool_2) # Saída: True\n",
        "\n",
        "valor_bool_3 = bool([])\n",
        "print(valor_bool_3) # Saída: False - Lista Vazia\n",
        "\n",
        "valor_bool_4 = bool([False])\n",
        "print(valor_bool_4) # Saída: True - Lista Não Vazia\n",
        "\n",
        "valor_bool_5 = bool({})\n",
        "print(valor_bool_5) # Saída: False - Dicionário Vazio, o mesmo para Tupla\n",
        "\n",
        "valor_bool_6 = bool(\"\")\n",
        "print(valor_bool_6) # Saída: False - String Vazia\n",
        "\n",
        "valor_bool_7 = bool(\" \")\n",
        "print(valor_bool_7) # Saída: True - String Não Vazia\n",
        "\n",
        "valor_bool_8 = bool(None)\n",
        "print(valor_bool_8) # Saída: False\n",
        "\n",
        "valor_bool_9 = bool(len)\n",
        "print(valor_bool_9) # Saída: True\n",
        "\n",
        "# Listas e Conjuntos\n",
        "conjunto = set([1, 2])\n",
        "lista = list(conjunto)\n",
        "print(conjunto) # Saída: {1, 2}\n",
        "print(lista)    # Saída: [1, 2]\n",
        "\n",
        "valor_lista_1 = list({0: \"Python\", 1: \"R\"}) # dict: Lista de chaves\n",
        "print(valor_lista_1) # Saída: [0, 1]\n",
        "\n",
        "tupla = tuple(lista)\n",
        "print(tupla) # Saída: (1, 2)\n",
        "\n",
        "valor_lista_2 = list(\"ABC\")\n",
        "print(valor_lista_2) # Saída: ['A', 'B', 'C']"
      ],
      "execution_count": 0,
      "outputs": []
    },
    {
      "cell_type": "markdown",
      "metadata": {
        "id": "0MassAwCyKkf",
        "colab_type": "text"
      },
      "source": [
        "## Exercício 1\n",
        "*Calculando o IMC*\n",
        "\n",
        "O Índice de Massa Corporal (IMC) é uma medida internacional usada para calcular se uma pessoa está em seu peso ideal.\n",
        "O cálculo do IMC é determinado pela divisão da massa do indivíduo em quilogramas pelo quadrado de sua altura em metros.\n",
        "\n",
        "\n",
        "\n",
        "$$IMC=\\frac{massa}{(altura * altura)}$$\n",
        "\n",
        "\n",
        "\n",
        "Escreva um programa que leia do usuário sua altura e peso e calcule o seu IMC.\n"
      ]
    },
    {
      "cell_type": "code",
      "metadata": {
        "id": "nna-EwK3yKkg",
        "colab_type": "code",
        "outputId": "fc0475e7-f525-49aa-b4ca-f9c1c4e3530d",
        "colab": {
          "base_uri": "https://localhost:8080/",
          "height": 68
        }
      },
      "source": [
        "# TODO: Complete o Código Abaixo\n",
        "altura = float(input('Altura: '))\n",
        "peso = float(input('  Peso: '))\n",
        "imc = peso / (altura **2)\n",
        "\n",
        "print(\"O IMC da pessoa é {}\".format(imc))"
      ],
      "execution_count": 0,
      "outputs": [
        {
          "output_type": "stream",
          "text": [
            "Altura: 1.86\n",
            "  Peso: 97\n",
            "O IMC da pessoa é 28.037923459359458\n"
          ],
          "name": "stdout"
        }
      ]
    },
    {
      "cell_type": "markdown",
      "metadata": {
        "id": "bQ3WB9xryKkj",
        "colab_type": "text"
      },
      "source": [
        "## Operadores\n",
        "\n",
        "*Operadores Numéricos*\n",
        "\n",
        "| Operador | Descrição       |\n",
        "|:---------|:----------------|\n",
        "| +        | Adição          |\n",
        "| -        | Subtração       |\n",
        "| *        | Multiplicação   |\n",
        "| /        | Divisão         |\n",
        "| **       | Expoente        |\n",
        "| %        | Módulo          |\n",
        "| //       | Divisão de Piso |\n",
        "\n",
        "\n",
        "*Operadores de Comparação*\n",
        "\n",
        "| Operador | Descrição       |\n",
        "|:---------|:----------------|\n",
        "| ==       | Igual           |\n",
        "| !=       | Diferente       |\n",
        "| >        | Maior           |\n",
        "| <        | Menor           |\n",
        "| >=       | Maior Igual     |\n",
        "| <=       | Menor Igual     |\n",
        "\n",
        "\n",
        "*Operadores Lógicos*\n",
        "\n",
        "| Operador | Descrição       |\n",
        "|:---------|:----------------|\n",
        "| and      | AND lógico      |\n",
        "| or       | OR lógico       |\n",
        "| not      | NOT lógico      |\n",
        "\n",
        "*Caracteres Especiais*\n",
        "\n",
        "| Operador | Descrição       |\n",
        "|:---------|:----------------|\n",
        "| #        | Comentário      |\n",
        "| \\n       | Nova Linha      |\n"
      ]
    },
    {
      "cell_type": "markdown",
      "metadata": {
        "id": "-b7CubwQyKkk",
        "colab_type": "text"
      },
      "source": [
        "## Exercícios"
      ]
    },
    {
      "cell_type": "markdown",
      "metadata": {
        "id": "gMZUpIWnyKkl",
        "colab_type": "text"
      },
      "source": [
        "1. Escreva um algoritmo que imprima na tela: Olá Mundo!"
      ]
    },
    {
      "cell_type": "code",
      "metadata": {
        "id": "m0aEvzkZyKkm",
        "colab_type": "code",
        "outputId": "6ddaf12c-1aeb-49e8-c6dc-fbf2f601306d",
        "colab": {
          "base_uri": "https://localhost:8080/",
          "height": 317
        }
      },
      "source": [
        "import e\n",
        "print(emoji.emojize('Olá Mundo :earth_americas: ', use_aliases=True))"
      ],
      "execution_count": 0,
      "outputs": [
        {
          "output_type": "error",
          "ename": "ModuleNotFoundError",
          "evalue": "ignored",
          "traceback": [
            "\u001b[0;31m---------------------------------------------------------------------------\u001b[0m",
            "\u001b[0;31mModuleNotFoundError\u001b[0m                       Traceback (most recent call last)",
            "\u001b[0;32m<ipython-input-2-18d3fc7aa761>\u001b[0m in \u001b[0;36m<module>\u001b[0;34m()\u001b[0m\n\u001b[0;32m----> 1\u001b[0;31m \u001b[0;32mimport\u001b[0m \u001b[0memoji\u001b[0m\u001b[0;34m\u001b[0m\u001b[0;34m\u001b[0m\u001b[0m\n\u001b[0m\u001b[1;32m      2\u001b[0m \u001b[0mprint\u001b[0m\u001b[0;34m(\u001b[0m\u001b[0memoji\u001b[0m\u001b[0;34m.\u001b[0m\u001b[0memojize\u001b[0m\u001b[0;34m(\u001b[0m\u001b[0;34m'Olá Mundo :earth_americas: '\u001b[0m\u001b[0;34m,\u001b[0m \u001b[0muse_aliases\u001b[0m\u001b[0;34m=\u001b[0m\u001b[0;32mTrue\u001b[0m\u001b[0;34m)\u001b[0m\u001b[0;34m)\u001b[0m\u001b[0;34m\u001b[0m\u001b[0;34m\u001b[0m\u001b[0m\n",
            "\u001b[0;31mModuleNotFoundError\u001b[0m: No module named 'emoji'",
            "",
            "\u001b[0;31m---------------------------------------------------------------------------\u001b[0;32m\nNOTE: If your import is failing due to a missing package, you can\nmanually install dependencies using either !pip or !apt.\n\nTo view examples of installing some common dependencies, click the\n\"Open Examples\" button below.\n\u001b[0;31m---------------------------------------------------------------------------\u001b[0m\n"
          ]
        }
      ]
    },
    {
      "cell_type": "markdown",
      "metadata": {
        "id": "bNAFDMfsyKko",
        "colab_type": "text"
      },
      "source": [
        "2. Escreva um programa que imprima seu nome na tela."
      ]
    },
    {
      "cell_type": "code",
      "metadata": {
        "id": "Ta8R-xOVyKkp",
        "colab_type": "code",
        "outputId": "af54b082-c5cd-4717-9103-d4f4a6f15406",
        "colab": {
          "base_uri": "https://localhost:8080/",
          "height": 34
        }
      },
      "source": [
        "nome = str('Fabrício')\n",
        "\n",
        "print(\"O nome é: {}\".format(nome))"
      ],
      "execution_count": 0,
      "outputs": [
        {
          "output_type": "stream",
          "text": [
            "O nome é: Fabrício\n"
          ],
          "name": "stdout"
        }
      ]
    },
    {
      "cell_type": "markdown",
      "metadata": {
        "id": "HZVeXqbQyKkt",
        "colab_type": "text"
      },
      "source": [
        "3. O que o código a seguir imprime?\n",
        "\n",
        "```python\n",
        "print(\"*\\n**\\n***\\n****\\n*****\")\n",
        "```\n",
        "# o código imprime cinco linhas de * sendo que \n",
        "1ª linha, 1 *\n",
        "2ª linha, 2 *\n",
        "3ª linha, 3 *\n",
        "4ª linha, 4 *\n",
        "5ª linha, 5 *"
      ]
    },
    {
      "cell_type": "markdown",
      "metadata": {
        "id": "txlnjw4DKSPw",
        "colab_type": "text"
      },
      "source": [
        "# New Section"
      ]
    },
    {
      "cell_type": "code",
      "metadata": {
        "id": "_lx4aDnryKku",
        "colab_type": "code",
        "colab": {}
      },
      "source": [
        ""
      ],
      "execution_count": 0,
      "outputs": []
    },
    {
      "cell_type": "markdown",
      "metadata": {
        "id": "5lIBLmVMyKkx",
        "colab_type": "text"
      },
      "source": [
        "4. O que aparece na janela do console, quando cada uma das instruções abaixo são executadas, para: x = 2 e y = 3? Execute cada uma das linhas abaixos e, se necessário, faça os devidos ajustes no código.\n",
        "    1. *print(“x = ” + x);*\n",
        "    2. *print(“O valor de x + x é ” + (x + x));*\n",
        "    3. *print(“x = ”);*\n",
        "    4. *print((x + y) + “ = “ + (y + x));*\n",
        "\n",
        "x = int('2')\n",
        "y = int('3')\n",
        "print(\"X = {}\".format(x))\n",
        "print(\"Y = {}\".format(y))\n",
        "print(\"O valor de X + X é = {}\".format(x+x))\n",
        "print(\"O valor de X + Y é = {}\".format(x+y))\n"
      ]
    },
    {
      "cell_type": "code",
      "metadata": {
        "id": "oNw0lyfjyKky",
        "colab_type": "code",
        "colab": {}
      },
      "source": [
        ""
      ],
      "execution_count": 0,
      "outputs": []
    },
    {
      "cell_type": "markdown",
      "metadata": {
        "id": "93cwG95eyKk0",
        "colab_type": "text"
      },
      "source": [
        "5. Escreva um algoritmo que imprima na tela a seguinte mensagem:\n",
        "\n",
        "> A programação é aprendida escrevendo programas - \n",
        "> Brian Kernighan\n"
      ]
    },
    {
      "cell_type": "code",
      "metadata": {
        "id": "V38hWL0tyKk1",
        "colab_type": "code",
        "outputId": "c58c6a9e-32d5-45d6-b8e0-8a11254241d8",
        "colab": {
          "base_uri": "https://localhost:8080/",
          "height": 34
        }
      },
      "source": [
        "texto = str('A programação é aprendida escrevendo programas - Brian Kernighan')\n",
        "print('{}'.format(texto))"
      ],
      "execution_count": 0,
      "outputs": [
        {
          "output_type": "stream",
          "text": [
            "A programação é aprendida escrevendo programas - Brian Kernighan\n"
          ],
          "name": "stdout"
        }
      ]
    },
    {
      "cell_type": "markdown",
      "metadata": {
        "id": "aIQeAstfyKk4",
        "colab_type": "text"
      },
      "source": [
        "6. Crie um algoritmo que imprima o produto entre os números 25 e 27"
      ]
    },
    {
      "cell_type": "code",
      "metadata": {
        "id": "2JbQXlSKyKk5",
        "colab_type": "code",
        "outputId": "3819e8cc-505c-46a0-d85e-c29bcd604302",
        "colab": {
          "base_uri": "https://localhost:8080/",
          "height": 102
        }
      },
      "source": [
        "n1 = 25\n",
        "n2 = 27\n",
        "prod = n1 * n2\n",
        "print('O produto de {} e {} = {}'.format(n1, n2,prod))\n",
        "\n",
        "# produto de raiz\n",
        "n1 = 25\n",
        "n2 = 27\n",
        "raiz1 = n1 ** (1/2)\n",
        "raiz2 = n2 ** (1/2)\n",
        "prod = raiz1 * raiz2\n",
        "print('A raiz quadrada dos números: \\n'\n",
        "      'nº {} é {} \\n'\n",
        "      'nº {} é {:.2f} \\n'\n",
        "      'O produto da raiz de {} e {} é = {:.2f}'.format(n1, raiz1, n2, raiz2, n1, n2, prod))"
      ],
      "execution_count": 0,
      "outputs": [
        {
          "output_type": "stream",
          "text": [
            "O produto de 25 e 27 = 675\n",
            "A raiz quadrada dos números: \n",
            "nº 25 é 5.0 \n",
            "nº 27 é 5.20 \n",
            "O produto da raiz de 25 e 27 é = 25.98\n"
          ],
          "name": "stdout"
        }
      ]
    },
    {
      "cell_type": "markdown",
      "metadata": {
        "id": "Y4_Ot2sQyKk7",
        "colab_type": "text"
      },
      "source": [
        "7. Crie um algoritmo que imprima a média aritmética entre os números 4, 12, 15."
      ]
    },
    {
      "cell_type": "code",
      "metadata": {
        "id": "I3cM43zhyKk8",
        "colab_type": "code",
        "outputId": "cfcb2a7b-b9b5-49fb-ddd0-05a91ab9b3f8",
        "colab": {
          "base_uri": "https://localhost:8080/",
          "height": 34
        }
      },
      "source": [
        "n1 = 4\n",
        "n2 = 12\n",
        "n3 = 15\n",
        "media = (n1 + n2 + n3) / 3\n",
        "print('A média aritmética de {}, {}, {} = {:.2f}'.format(n1, n2, n3, media))"
      ],
      "execution_count": 0,
      "outputs": [
        {
          "output_type": "stream",
          "text": [
            "A média aritmética de 4, 12, 15 = 10.33\n"
          ],
          "name": "stdout"
        }
      ]
    },
    {
      "cell_type": "markdown",
      "metadata": {
        "id": "8dINHfgByKk_",
        "colab_type": "text"
      },
      "source": [
        "8. Faça um programa que leia um número inteiro e mostre-o na tela da seguinte forma: \n",
        "\n",
        "> O número inteiro digitado foi 4."
      ]
    },
    {
      "cell_type": "code",
      "metadata": {
        "id": "5Uq83NonyKlA",
        "colab_type": "code",
        "outputId": "6432480d-408f-4e46-c860-d51daa4447fd",
        "colab": {
          "base_uri": "https://localhost:8080/",
          "height": 34
        }
      },
      "source": [
        "n1 = 4\n",
        "print('O número inteiro digitado foi: {}'.format(n1))"
      ],
      "execution_count": 0,
      "outputs": [
        {
          "output_type": "stream",
          "text": [
            "O número inteiro digitado foi: 4\n"
          ],
          "name": "stdout"
        }
      ]
    },
    {
      "cell_type": "markdown",
      "metadata": {
        "id": "wmeBwPXIyKlC",
        "colab_type": "text"
      },
      "source": [
        "9. Faça um programa que leia e imprima dois números inteiros na tela."
      ]
    },
    {
      "cell_type": "code",
      "metadata": {
        "id": "Up39yu4EyKlD",
        "colab_type": "code",
        "outputId": "e305d1eb-b8b3-4da6-8b21-9d6f2ee69771",
        "colab": {
          "base_uri": "https://localhost:8080/",
          "height": 68
        }
      },
      "source": [
        "n1 = int(input('Digite um nº inteiro: '))\n",
        "n2 = int(input('Digite outro nº inteiro: '))\n",
        "print('Os números inteiros digitadas são: {}, {}'.format(n1, n2))"
      ],
      "execution_count": 0,
      "outputs": [
        {
          "output_type": "stream",
          "text": [
            "Digite um nº inteiro: 2\n",
            "Digite outro nº inteiro: 5\n",
            "Os números inteiros digitadas são: 2, 5\n"
          ],
          "name": "stdout"
        }
      ]
    },
    {
      "cell_type": "markdown",
      "metadata": {
        "id": "FwgVzxoxyKlG",
        "colab_type": "text"
      },
      "source": [
        "10. Faça um programa que leia um número inteiro e imprima seu número sucessor e antecessor."
      ]
    },
    {
      "cell_type": "code",
      "metadata": {
        "id": "M8dGJRJ4yKlH",
        "colab_type": "code",
        "outputId": "613e44e4-a039-4441-b8a8-fbb2e037578b",
        "colab": {
          "base_uri": "https://localhost:8080/",
          "height": 85
        }
      },
      "source": [
        "n1 = int(input('Digite um nº inteiro: '))\n",
        "print('O número é: {} \\n'\n",
        "      'Sucessor é: {} \\n'\n",
        "      'Antecessor é: {}'.format(n1, n1+1, n1-1))"
      ],
      "execution_count": 0,
      "outputs": [
        {
          "output_type": "stream",
          "text": [
            "Digite um nº inteiro: 5\n",
            "O número é: 5 \n",
            "Sucessor é: 6 \n",
            "Antecessor é: 4\n"
          ],
          "name": "stdout"
        }
      ]
    },
    {
      "cell_type": "markdown",
      "metadata": {
        "id": "N4tqbacWyKlJ",
        "colab_type": "text"
      },
      "source": [
        "11. Faça um programa que leia o nome, endereço e telefone de um usuário e imprima na tela."
      ]
    },
    {
      "cell_type": "code",
      "metadata": {
        "id": "KM_LjOwbyKlK",
        "colab_type": "code",
        "outputId": "d4d50f42-b16a-42e8-ce4a-cdfb4388f04c",
        "colab": {
          "base_uri": "https://localhost:8080/",
          "height": 119
        }
      },
      "source": [
        "nome = str(input('Digite seu nome: '))\n",
        "end = str(input('Digite seu endereço: '))\n",
        "tel = str(input('Digite seu telefone: '))\n",
        "print('Seu nome é: {} \\n'\n",
        "      'Seu endereço é: {} \\n'\n",
        "      'Seu telefone é {}'.format(nome, end, tel))"
      ],
      "execution_count": 0,
      "outputs": [
        {
          "output_type": "stream",
          "text": [
            "Digite seu nome: FABRÍCIO\n",
            "Digite seu endereço: RUA CONTAGEM Nº 1275\n",
            "Digite seu telefone: 99949-8012\n",
            "Seu nome é: FABRÍCIO \n",
            "Seu endereço é: RUA CONTAGEM Nº 1275 \n",
            "Seu telefone é 99949-8012\n"
          ],
          "name": "stdout"
        }
      ]
    },
    {
      "cell_type": "markdown",
      "metadata": {
        "id": "ilfuTOtpyKlO",
        "colab_type": "text"
      },
      "source": [
        "12. Faça um programa que leia e multiplique dois números inteiros."
      ]
    },
    {
      "cell_type": "code",
      "metadata": {
        "id": "tZdecVcMyKlO",
        "colab_type": "code",
        "outputId": "ce95122b-d933-4a98-aefd-f64d562b3e76",
        "colab": {
          "base_uri": "https://localhost:8080/",
          "height": 68
        }
      },
      "source": [
        "n1 = int(input('Digite um nº inteiro: '))\n",
        "n2 = int(input('Digite outro nº inteiro: '))\n",
        "mult = n1 * n2\n",
        "print('A multiplicação do nº {} e {} é = {}'.format(n1, n2, mult))"
      ],
      "execution_count": 0,
      "outputs": [
        {
          "output_type": "stream",
          "text": [
            "Digite um nº inteiro: 5\n",
            "Digite outro nº inteiro: 5\n",
            "A multiplicação do nº 5 e 5 é = 25\n"
          ],
          "name": "stdout"
        }
      ]
    },
    {
      "cell_type": "markdown",
      "metadata": {
        "id": "0jSUL5IPyKlQ",
        "colab_type": "text"
      },
      "source": [
        "13. Faça um programa que leia um número real e imprima a terça parte deste número."
      ]
    },
    {
      "cell_type": "code",
      "metadata": {
        "id": "pJNkv2d_yKlR",
        "colab_type": "code",
        "outputId": "a15f7d1f-e8b9-46f6-c549-28a1cb350d22",
        "colab": {
          "base_uri": "https://localhost:8080/",
          "height": 52
        }
      },
      "source": [
        "n1 = int(input('Digite um nº inteiro: '))\n",
        "print('A terça para de {} é: {}'.format(n1, n1*1/3))"
      ],
      "execution_count": 0,
      "outputs": [
        {
          "output_type": "stream",
          "text": [
            "Digite um nº inteiro: 30\n",
            "A terça para de 30 é: 10.0\n"
          ],
          "name": "stdout"
        }
      ]
    },
    {
      "cell_type": "markdown",
      "metadata": {
        "id": "pjmG5MHLyKlT",
        "colab_type": "text"
      },
      "source": [
        "14. Faça um programa que leia dois números inteiros e imprima o dividendo, divisor, quociente e resto da divisão"
      ]
    },
    {
      "cell_type": "code",
      "metadata": {
        "id": "lbs9DLFpyKlU",
        "colab_type": "code",
        "outputId": "db14054e-4c25-4401-e11a-b13611d60c30",
        "colab": {
          "base_uri": "https://localhost:8080/",
          "height": 122
        }
      },
      "source": [
        "n1 = int(input('Digite um nº inteiro: '))\n",
        "n2 = int(input('Digite outro nº inteiro: '))\n",
        "qc = n1 / n2\n",
        "rd = n1 % n2\n",
        "print('O Dividendo é: {}'.format(n1))\n",
        "print('O Divisor é: {}'.format(n2))\n",
        "print('o quociente é: {:.2f}'.format(qc))\n",
        "print('o Resto é: {}'.format(rd))"
      ],
      "execution_count": 0,
      "outputs": [
        {
          "output_type": "stream",
          "text": [
            "Digite um nº inteiro: 28\n",
            "Digite outro nº inteiro: 3\n",
            "O Dividendo é: 28\n",
            "O Divisor é: 3\n",
            "o quociente é: 9.33\n",
            "o Resto é: 1\n"
          ],
          "name": "stdout"
        }
      ]
    },
    {
      "cell_type": "markdown",
      "metadata": {
        "id": "p7iHLhuRyKlX",
        "colab_type": "text"
      },
      "source": [
        "15. Escreva um programa que solicite do usuário dois números, e imprima o resultado da soma, subtração, multiplicação e divisão."
      ]
    },
    {
      "cell_type": "code",
      "metadata": {
        "id": "QIEpQzNZyKlY",
        "colab_type": "code",
        "outputId": "c141cd4a-451c-4b23-ade4-12c9d80914a9",
        "colab": {
          "base_uri": "https://localhost:8080/",
          "height": 122
        }
      },
      "source": [
        "n1 = float(input('Digite um nº: '))\n",
        "n2 = float(input('Digite outro nº: '))\n",
        "print('A soma de {} + {} = {}'.format(n1,n2,n1+n2))\n",
        "print('A subtração de {} - {} = {}'.format(n1,n2,n1-n2))\n",
        "print('A multiplicação de {} * {} = {}'.format(n1,n2,n1*n2))\n",
        "print('A divisão de {} / {} = {}'.format(n1,n2,n1/n2))"
      ],
      "execution_count": 0,
      "outputs": [
        {
          "output_type": "stream",
          "text": [
            "Digite um nº: 25\n",
            "Digite outro nº: 2.5\n",
            "A soma de 25.0 + 2.5 = 27.5\n",
            "A subtração de 25.0 - 2.5 = 22.5\n",
            "A multiplicação de 25.0 * 2.5 = 62.5\n",
            "A divisão de 25.0 / 2.5 = 10.0\n"
          ],
          "name": "stdout"
        }
      ]
    },
    {
      "cell_type": "markdown",
      "metadata": {
        "id": "NxZSRWyeyKla",
        "colab_type": "text"
      },
      "source": [
        "16. Faça um programa que leia quatro números inteiros, calcule e mostre a soma desses números."
      ]
    },
    {
      "cell_type": "code",
      "metadata": {
        "id": "C0h0LOQPyKlb",
        "colab_type": "code",
        "outputId": "e827964d-f4ff-44d1-b355-fdf48448c488",
        "colab": {
          "base_uri": "https://localhost:8080/",
          "height": 105
        }
      },
      "source": [
        "n1 = int(input('Digite um nº inteiro: '))\n",
        "n2 = int(input('Digite outro nº inteiro: '))\n",
        "n3 = int(input('Digite outro nº inteiro: '))\n",
        "n4 = int(input('Digite outro nº inteiro: '))\n",
        "print('A soma de {} + {} + {} + {} = {}'.format(n1,n2,n3,n4,n1+n2+n3+n4))"
      ],
      "execution_count": 0,
      "outputs": [
        {
          "output_type": "stream",
          "text": [
            "Digite um nº inteiro: 10\n",
            "Digite outro nº inteiro: 1\n",
            "Digite outro nº inteiro: 1\n",
            "Digite outro nº inteiro: 1\n",
            "A soma de 10 + 1 + 1 + 1 = 13\n"
          ],
          "name": "stdout"
        }
      ]
    },
    {
      "cell_type": "markdown",
      "metadata": {
        "id": "Bo6b0S4zyKld",
        "colab_type": "text"
      },
      "source": [
        "17. Faça um programa que receba três notas, calcule e mostre a média aritmética."
      ]
    },
    {
      "cell_type": "code",
      "metadata": {
        "id": "3UbzvkDGyKle",
        "colab_type": "code",
        "outputId": "1ca6ca94-19ba-4c4d-b5a4-7fe8b98bb7dc",
        "colab": {
          "base_uri": "https://localhost:8080/",
          "height": 70
        }
      },
      "source": [
        "nota1 = float(input('Digite a primeira nota: '))\n",
        "nota2 = float(input('Digite a segunda nota: '))\n",
        "media = (nota1 + nota2) / 2\n",
        "print('A média aritmética é = {}'.format(media))"
      ],
      "execution_count": 0,
      "outputs": [
        {
          "output_type": "stream",
          "text": [
            "Digite a primeira nota: 60\n",
            "Digite a segunda nota: 69\n",
            "A média aritmética é = 64.5\n"
          ],
          "name": "stdout"
        }
      ]
    },
    {
      "cell_type": "markdown",
      "metadata": {
        "id": "hsOSlr58yKlg",
        "colab_type": "text"
      },
      "source": [
        "18. Faça um programa que receba três notas e seus respectivos pesos, calcule e mostre a média ponderada."
      ]
    },
    {
      "cell_type": "code",
      "metadata": {
        "id": "xTgv5sMqyKlh",
        "colab_type": "code",
        "outputId": "3b37cf84-5c1e-4c1f-b116-45a2e543ac70",
        "colab": {
          "base_uri": "https://localhost:8080/",
          "height": 158
        }
      },
      "source": [
        "port = float(input('Digite a de nota Português: '))\n",
        "mat = float(input('Digite a de Matemática: '))\n",
        "bio = float(input('Digite a de Biologia: '))\n",
        "pp = 3\n",
        "pm = 3\n",
        "pb = 2\n",
        "nota = (port*pp) + (mat*pm) + (bio*pb)\n",
        "peso = pp + pm + pb\n",
        "print('Nota de Portugês: {}'.format(port))\n",
        "print('Nota de Matemática: {}'.format(mat))\n",
        "print('Nota de Biologia é: {}'.format(bio))\n",
        "print('A nota é: {} e'.format(nota))\n",
        "print('A média poderada é: {}'.format(nota/peso))"
      ],
      "execution_count": 0,
      "outputs": [
        {
          "output_type": "stream",
          "text": [
            "Digite a de nota Português: 8\n",
            "Digite a de Matemática: 7.5\n",
            "Digite a de Biologia: 5\n",
            "Nota de Portugês: 8.0\n",
            "Nota de Matemática: 7.5\n",
            "Nota de Biologia é: 5.0\n",
            "A nota é: 56.5 e\n",
            "A média poderada é: 7.0625\n"
          ],
          "name": "stdout"
        }
      ]
    },
    {
      "cell_type": "markdown",
      "metadata": {
        "id": "vAOD6hXZyKlk",
        "colab_type": "text"
      },
      "source": [
        "19. Faça um programa que receba o salário de um funcionário, calcule e mostre o novo salário, sabendo-se que este sofreu um aumento de 25%."
      ]
    },
    {
      "cell_type": "code",
      "metadata": {
        "id": "U3JRysZ6yKlk",
        "colab_type": "code",
        "outputId": "dce70050-c211-4ad1-8865-2035b5ceb61f",
        "colab": {
          "base_uri": "https://localhost:8080/",
          "height": 87
        }
      },
      "source": [
        "sal = float(input('Digite o Salário R$ '))\n",
        "pc = 25\n",
        "ns = sal + (sal / 100 * pc)\n",
        "print('O salário é de R$ {} '.format(sal))\n",
        "print('Aumento de {}% '.format(pc))\n",
        "print('O novo salário é R$ {} '.format(ns))"
      ],
      "execution_count": 0,
      "outputs": [
        {
          "output_type": "stream",
          "text": [
            "Digite o Salário R$ 1200\n",
            "O salário é de R$ 1200.0 \n",
            "Aumento de 25% \n",
            "O novo salário é R$ 1500.0 \n"
          ],
          "name": "stdout"
        }
      ]
    },
    {
      "cell_type": "markdown",
      "metadata": {
        "id": "X-sCiDJWyKlm",
        "colab_type": "text"
      },
      "source": [
        "20. Faça um programa que receba o salário de um funcionário e o percentual de aumento, calcule e mostre o valor do aumento e o novo salário. \n"
      ]
    },
    {
      "cell_type": "code",
      "metadata": {
        "id": "YZJ6-Wy9yKlo",
        "colab_type": "code",
        "outputId": "3adf144f-e44a-4955-f66f-e86028618e82",
        "colab": {
          "base_uri": "https://localhost:8080/",
          "height": 122
        }
      },
      "source": [
        "sal = float(input('Digite o Salário R$ '))\n",
        "aum = float(input('Digite a porcentagem do aumento R$ '))\n",
        "ns = (sal / 100 * aum)\n",
        "print('O salário é de R$ {} '.format(sal))\n",
        "print('% de aumento {}% '.format(aum))\n",
        "print('Aumento de R$ {}'.format(ns))\n",
        "print('Novo salário é R$ {} '.format(sal + ns))"
      ],
      "execution_count": 0,
      "outputs": [
        {
          "output_type": "stream",
          "text": [
            "Digite o Salário R$ 1200\n",
            "Digite a porcentagem do aumento R$ 25\n",
            "O salário é de R$ 1200.0 \n",
            "% de aumento 25.0% \n",
            "Aumento de R$ 300.0\n",
            "Novo salário é R$ 1500.0 \n"
          ],
          "name": "stdout"
        }
      ]
    },
    {
      "cell_type": "markdown",
      "metadata": {
        "id": "nyDJJROhyKlr",
        "colab_type": "text"
      },
      "source": [
        "21. Faça um programa que receba o salário base de um funcionário, calcule e mostre o salário a receber, sabendo-se que o funcionário tem gratificação de 5% sobre o salário base e paga imposto de 7% também sobre o salário base."
      ]
    },
    {
      "cell_type": "code",
      "metadata": {
        "id": "vh6yjSN8yKls",
        "colab_type": "code",
        "outputId": "01baa75a-b90d-409b-887e-e847e542cb34",
        "colab": {
          "base_uri": "https://localhost:8080/",
          "height": 105
        }
      },
      "source": [
        "salb = float(input('Digite o salário base R$ '))\n",
        "grat = salb / 100 * 5\n",
        "imp = salb / 100 * 7\n",
        "print('O salário base é R$ {}'.format(salb))\n",
        "print('Gratificação de R$ {} '.format(grat))\n",
        "print('Imposto de R$ {}'.format(imp))\n",
        "print('O novo salário é R$ {} '.format(salb + grat - imp))"
      ],
      "execution_count": 0,
      "outputs": [
        {
          "output_type": "stream",
          "text": [
            "Digite o salário base R$ 1200\n",
            "O salário base é R$ 1200.0\n",
            "Gratificação de R$ 60.0 \n",
            "Imposto de R$ 84.0\n",
            "O novo salário é R$ 1176.0 \n"
          ],
          "name": "stdout"
        }
      ]
    },
    {
      "cell_type": "markdown",
      "metadata": {
        "id": "c-DzvB4vyKlu",
        "colab_type": "text"
      },
      "source": [
        "22. Faça um programa que receba o salário base de um funcionário, calcule e mostre seu salário a receber, sabendo-se que o funcionário tem gratificação de R$ 50,00 e paga imposto de 10% sobre o salário base."
      ]
    },
    {
      "cell_type": "code",
      "metadata": {
        "id": "mARw-yDmyKlv",
        "colab_type": "code",
        "outputId": "eba336f3-4a1e-4ad0-ca14-d42f09066dbd",
        "colab": {
          "base_uri": "https://localhost:8080/",
          "height": 102
        }
      },
      "source": [
        "salb = float(input('Digite o salário base R$ '))\n",
        "grat = 50\n",
        "imp = salb / 100 * 10\n",
        "print('O salário base é R$ {}'.format(salb))\n",
        "print('Gratificação de R$ {} '.format(grat))\n",
        "print('Imposto de R$ {}'.format(imp))\n",
        "print('O novo salário é R$ {} '.format(salb + grat - imp))"
      ],
      "execution_count": 0,
      "outputs": [
        {
          "output_type": "stream",
          "text": [
            "Digite o salário base R$ 1200\n",
            "O salário base é R$ 1200.0\n",
            "Gratificação de R$ 50 \n",
            "Imposto de R$ 120.0\n",
            "O novo salário é R$ 1130.0 \n"
          ],
          "name": "stdout"
        }
      ]
    },
    {
      "cell_type": "markdown",
      "metadata": {
        "id": "Kg4fkBtjyKly",
        "colab_type": "text"
      },
      "source": [
        "23. Faça um programa que receba o valor de um depósito e o valor da taxa de juros, calcule e mostre o valor do rendimento e o valor total depois do rendimento."
      ]
    },
    {
      "cell_type": "code",
      "metadata": {
        "id": "PiXvr01NyKlz",
        "colab_type": "code",
        "outputId": "7b8a157f-fe11-4ced-a083-45cd59e4db0d",
        "colab": {
          "base_uri": "https://localhost:8080/",
          "height": 122
        }
      },
      "source": [
        "dep = float(input('Digite o valor do depósito R$ '))\n",
        "juros = float(input('Digite a taxa de juros '))\n",
        "rend = dep * juros / 100\n",
        "print('Valor depositado R${}'.format(dep))\n",
        "print('Juros de {}%'.format(juros))\n",
        "print('Rendimento de R${}'.format(rend))\n",
        "print('Total com rendimentos R${}'.format(dep+rend))"
      ],
      "execution_count": 0,
      "outputs": [
        {
          "output_type": "stream",
          "text": [
            "Digite o valor do depósito R$ 1200\n",
            "Digite a taxa de juros 10\n",
            "Valor depositado R$1200.0\n",
            "Juros de 10.0%\n",
            "Rendimento de R$120.0\n",
            "Total com rendimentos R$1320.0\n"
          ],
          "name": "stdout"
        }
      ]
    },
    {
      "cell_type": "markdown",
      "metadata": {
        "id": "01FcSPbayKl1",
        "colab_type": "text"
      },
      "source": [
        "24. Faça um programa que calcule e mostre a área de um triângulo. Sabe-se que: \n",
        "> Área = (base * altura) / 2."
      ]
    },
    {
      "cell_type": "code",
      "metadata": {
        "id": "ZbCD8RkKyKl2",
        "colab_type": "code",
        "outputId": "be70e910-6deb-47ae-8c0c-3f17f0833e40",
        "colab": {
          "base_uri": "https://localhost:8080/",
          "height": 105
        }
      },
      "source": [
        "bas = float(input('Digite a base do Triângulo: '))\n",
        "alt = float(input('Digite a Altura do Triângulo: '))\n",
        "area = (bas*alt) / 2\n",
        "print('Base do Triângulo é: {}'.format(bas))\n",
        "print('Altura do Triângulo é: {}'.format(alt))\n",
        "print('A Área do Triângulo é: {}'.format(area))"
      ],
      "execution_count": 0,
      "outputs": [
        {
          "output_type": "stream",
          "text": [
            "Digite a base do Triângulo: 6\n",
            "Digite a Altura do Triângulo: 4\n",
            "Base do Triângulo é: 6.0\n",
            "Altura do Triângulo é: 4.0\n",
            "A Área do Triângulo é: 12.0\n"
          ],
          "name": "stdout"
        }
      ]
    },
    {
      "cell_type": "markdown",
      "metadata": {
        "id": "evZpsf4CyKl4",
        "colab_type": "text"
      },
      "source": [
        "25. Escreva um programa que receba como entrada o raio de um círculo e imprima o diâmetro, a circunferência e a área. Para isso, utilize as fórmulas: diâmetro = 2r; circunferência = 2πr, área = πr²."
      ]
    },
    {
      "cell_type": "code",
      "metadata": {
        "id": "a5NDI8VAyKl5",
        "colab_type": "code",
        "outputId": "a4937f18-a9e2-4a06-f1ab-2a585c45dc7a",
        "colab": {
          "base_uri": "https://localhost:8080/",
          "height": 51
        }
      },
      "source": [
        "r = float(input('Informe o Raio do circulo '))\n",
        "area = 3.14 * (r * r)\n",
        "print('A área do circulo é {}'.format(area))"
      ],
      "execution_count": 0,
      "outputs": [
        {
          "output_type": "stream",
          "text": [
            "Informe o Raio do circulo 6\n",
            "A área do circulo é 113.04\n"
          ],
          "name": "stdout"
        }
      ]
    },
    {
      "cell_type": "markdown",
      "metadata": {
        "id": "ZsYMFZ8EyKl7",
        "colab_type": "text"
      },
      "source": [
        "26. Faça um programa que receba um número positivo e maior que zero, calcule e mostre:\n",
        "    1. o número digitado ao quadrado;\n",
        "    2. o número digitado ao cubo;\n",
        "    3. a raiz quadrada do número digitado.\n"
      ]
    },
    {
      "cell_type": "code",
      "metadata": {
        "id": "hQeV0ytHyKl7",
        "colab_type": "code",
        "outputId": "a582f462-f3a5-4843-f6bf-a9cd0d7a22b5",
        "colab": {
          "base_uri": "https://localhost:8080/",
          "height": 85
        }
      },
      "source": [
        "n1 = int(input('Digite um nº positivo > 0: '))\n",
        "print('{} ao quadrado = {}'.format(n1, n1 ** 2))\n",
        "print('{} ao cubo = {}'.format(n1, n1 ** 3))\n",
        "print('raiz quadra de {} é = {}'.format(n1, n1**(1/2)))"
      ],
      "execution_count": 0,
      "outputs": [
        {
          "output_type": "stream",
          "text": [
            "Digite um nº positivo > 0: 4\n",
            "4 ao quadrado = 16\n",
            "4 ao cubo = 64\n",
            "raiz quadra de 4 é = 2.0\n"
          ],
          "name": "stdout"
        }
      ]
    },
    {
      "cell_type": "markdown",
      "metadata": {
        "id": "VgwUt4zzyKl9",
        "colab_type": "text"
      },
      "source": [
        "27. Faça um programa que receba dois números maiores que zero, calcule e mostre um elevado ao outro."
      ]
    },
    {
      "cell_type": "code",
      "metadata": {
        "id": "EjrAYyzVyKl_",
        "colab_type": "code",
        "outputId": "1e123d66-891d-40fc-b4ac-5040d32370f9",
        "colab": {
          "base_uri": "https://localhost:8080/",
          "height": 85
        }
      },
      "source": [
        "n1 = int(input('Digite um nº inteiro > 0: '))\n",
        "n2 = int(input('Digite outro nº inteiro > 0: '))\n",
        "print('{} elevado a {} = {}'.format(n1, n2, n1**n2))\n",
        "print('{} elevado a {} = {}'.format(n2, n1, n2**n1))"
      ],
      "execution_count": 0,
      "outputs": [
        {
          "output_type": "stream",
          "text": [
            "Digite um nº inteiro maior que 0: 2\n",
            "Digite outro nº inteiro maior que 0: 4\n",
            "2 elevado a 4 = 16\n",
            "4 elevado a 2 = 16\n"
          ],
          "name": "stdout"
        }
      ]
    },
    {
      "cell_type": "markdown",
      "metadata": {
        "id": "nmNiQAMiyKmB",
        "colab_type": "text"
      },
      "source": [
        "28. Sabe-se que: pé = 12 polegadas; 1 jarda = 3 pés e 1 milha = 1,760 jarda. Faça um programa que receba uma medida em pés, faça as conversões a seguir e mostre os resultados.\n",
        "    1. polegadas;\n",
        "    2. jardas;\n",
        "    3. milhas.\n"
      ]
    },
    {
      "cell_type": "code",
      "metadata": {
        "id": "-yAeIrk4yKmC",
        "colab_type": "code",
        "outputId": "d323d7b6-6d4a-4c18-96d7-55ee62dd9d0e",
        "colab": {
          "base_uri": "https://localhost:8080/",
          "height": 85
        }
      },
      "source": [
        "pes = float(input('Digite quantidade de pes: '))\n",
        "pol = pes * 12\n",
        "jar = pes / 3\n",
        "milha = pes / 1760\n",
        "print('{} pes em polegadas são: {}'.format(pes,pol))\n",
        "print('{} pes em jardas são: {}'.format(pes,jar))\n",
        "print('{} pes em milhas são: {}'.format(pes,milha))"
      ],
      "execution_count": 0,
      "outputs": [
        {
          "output_type": "stream",
          "text": [
            "Digite quantidade de pes: 500\n",
            "500.0 pes em polegadas são: 6000.0\n",
            "500.0 pes em jardas são: 166.66666666666666\n",
            "500.0 pes em milhas são: 0.2840909090909091\n"
          ],
          "name": "stdout"
        }
      ]
    },
    {
      "cell_type": "markdown",
      "metadata": {
        "id": "eqBtyq5oyKmD",
        "colab_type": "text"
      },
      "source": [
        "29. Escreva um programa que receba como entrada um número de 5 dígitos, separe o número em dígitos individuais e os imprima separados por 3 espaços cada um. Por exemplo, se o usuário digitar 42339, o programa deverá imprimir: 4    2    3    3.   Dica: utilize as operações de divisão e módulo para extrair cada dígito do número."
      ]
    },
    {
      "cell_type": "code",
      "metadata": {
        "id": "PSukq67LyKmE",
        "colab_type": "code",
        "outputId": "028f66ce-3478-4a3f-ac63-0337bf40d34a",
        "colab": {
          "base_uri": "https://localhost:8080/",
          "height": 51
        }
      },
      "source": [
        "from math import trunc\n",
        "num = int(input('Digite um nº com 5 digitos: '))\n",
        "dig1 = trunc(num % 100000 / 10000)\n",
        "dig2 = trunc(num % 10000 / 1000)\n",
        "dig3 = trunc(num % 1000 / 100)\n",
        "dig4 = trunc(num % 100 / 10)\n",
        "dig5 = trunc(num % 10)\n",
        "print('{}   {}   {}   {}   {}'.format(dig1, dig2, dig3, dig4, dig5))\n"
      ],
      "execution_count": 0,
      "outputs": [
        {
          "output_type": "stream",
          "text": [
            "Digite um nº com 5 digitos: 42339\n",
            "4   2   3   3   9\n"
          ],
          "name": "stdout"
        }
      ]
    }
  ]
}